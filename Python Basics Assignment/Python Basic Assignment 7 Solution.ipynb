{
 "cells": [
  {
   "cell_type": "markdown",
   "id": "dea905a9",
   "metadata": {},
   "source": [
    "[Assignment 7 qn link](https://drive.google.com/file/d/1nGC6rHsEtfPf6mE0KtQnoH2xTostMKUc/view)"
   ]
  },
  {
   "cell_type": "markdown",
   "id": "35f773e6",
   "metadata": {},
   "source": [
    "Q.1. Create two int type variables, apply addition, subtraction, division and multiplications\n",
    "and store the results in variables. Then print the data in the following format by calling the\n",
    "variables:<br>\n",
    "First variable is __ & second variable is __. <br>\n",
    "Addition: __ + __ = __ <br>\n",
    "Subtraction: __ - __ = __ <br>\n",
    "Multiplication: __ * __ = __ <br>\n",
    "Division: __ / __ = __<br>"
   ]
  },
  {
   "cell_type": "code",
   "execution_count": 31,
   "id": "52429028",
   "metadata": {},
   "outputs": [
    {
     "name": "stdout",
     "output_type": "stream",
     "text": [
      "Enter first number:\n",
      "56\n",
      "Enter second number:\n",
      "8\n",
      "the first variable is  56 and the second variable is  8\n",
      "addition: 56+8 = 64\n",
      "subtraction: 56 - 8 = 48\n",
      "multiplication: 56*8 = 448\n",
      "divison: 56/8 = 7.0\n"
     ]
    }
   ],
   "source": [
    "def calc(x,y):\n",
    "    x=int(input(\"Enter first number:\\n\"))\n",
    "    y=int(input(\"Enter second number:\\n\"))\n",
    "    addition=x+y\n",
    "    subtraction=x-y\n",
    "    multiplication=x*y\n",
    "    divison=x/y\n",
    "    \n",
    "    \n",
    "    print(\"the first variable is \",x, \"and the second variable is \",y)\n",
    "   \n",
    "    print(f\"addition: {x}+{y} = {addition}\")\n",
    "    print(f\"subtraction: {x} - {y} = {subtraction}\")\n",
    "    print(f\"multiplication: {x}*{y} = {multiplication}\")\n",
    "    print(f\"divison: {x}/{y} = {divison}\")\n",
    "    \n",
    "calc(10,5) # function calling\n",
    "    \n",
    "    "
   ]
  },
  {
   "cell_type": "markdown",
   "id": "59599cc3",
   "metadata": {},
   "source": [
    "Q.2. What is the difference between the following operators: <br>\n",
    "(i) ‘/’ & ‘//’ <br>\n",
    "(ii) ‘**’ & ‘^’ <br>"
   ]
  },
  {
   "cell_type": "markdown",
   "id": "d0652680",
   "metadata": {},
   "source": [
    "<code>/</code>: float division: Division (result as float value): divides the first operand by the second<br>\n",
    "<code>//</code>: floor division :Divide the first argument by the second operand and then gives the result as the nearest whole number"
   ]
  },
  {
   "cell_type": "code",
   "execution_count": 16,
   "id": "472f9e5b",
   "metadata": {},
   "outputs": [
    {
     "name": "stdout",
     "output_type": "stream",
     "text": [
      "Enter first number:\n",
      "23\n",
      "Enter second number:\n",
      "5\n",
      "23/5=4.6\n",
      "23/5=4\n"
     ]
    }
   ],
   "source": [
    "a=int(input(\"Enter first number:\\n\"))\n",
    "b=int(input(\"Enter second number:\\n\"))\n",
    "\n",
    "r1=a/b\n",
    "r2=a//b\n",
    "\n",
    "print(f\"{a}/{b}={r1}\")\n",
    "print(f\"{a}/{b}={r2}\")"
   ]
  },
  {
   "cell_type": "markdown",
   "id": "209d1c3b",
   "metadata": {},
   "source": [
    "<code>**</code> : returns power. First raised to the power second<br>\n",
    "<code>^</code> :  Bitwise XOR . Returns 1 if one of the bits is 1 and the other is 0 else returns false/0."
   ]
  },
  {
   "cell_type": "code",
   "execution_count": 19,
   "id": "b9d118de",
   "metadata": {},
   "outputs": [
    {
     "name": "stdout",
     "output_type": "stream",
     "text": [
      "Enter first number:\n",
      "6\n",
      "Enter second number:\n",
      "4\n",
      "6**4=1296\n",
      "6^4=2\n"
     ]
    }
   ],
   "source": [
    "a1=int(input(\"Enter first number:\\n\"))\n",
    "b1=int(input(\"Enter second number:\\n\"))\n",
    "\n",
    "r3=a1**b1\n",
    "r4=a1^b1\n",
    "\n",
    "print(f\"{a1}**{b1}={r3}\")\n",
    "print(f\"{a1}^{b1}={r4}\")"
   ]
  },
  {
   "cell_type": "markdown",
   "id": "44ce6f33",
   "metadata": {},
   "source": [
    "#### explanation bitwise operator\n",
    "6=110 <br>\n",
    "4=100 <br>\n",
    "XOR=010 = 2"
   ]
  },
  {
   "cell_type": "markdown",
   "id": "36052446",
   "metadata": {},
   "source": [
    "Q.3. List the logical operators."
   ]
  },
  {
   "cell_type": "markdown",
   "id": "204308ef",
   "metadata": {},
   "source": [
    "**ANS:-** In Python, Logical operators are used on conditional statements (either True or False)<br>\n",
    "Logical AND (true if both operands are ture)<br> \n",
    "Logical OR (true if one of them is true)<br>\n",
    "Logical NOT (true if operand is false)"
   ]
  },
  {
   "cell_type": "markdown",
   "id": "de08501b",
   "metadata": {},
   "source": [
    "Q.4. Explain right shift operator and left shift operator with examples."
   ]
  },
  {
   "cell_type": "markdown",
   "id": "aa8454b2",
   "metadata": {},
   "source": [
    "<code>>></code>: **Bitwise right shift:** Python right shift operator is exactly the opposite of the left shift operator. Then left side operand bits are moved towards the right side for the given number of times. In simple terms, the right side bits are removed.<br>\n",
    "\n",
    "<<: **Bitwise Left shift:** Python bitwise left shift operator shifts the left operand bits towards the left side for the given number of times in the right operand. In simple terms, the binary number is appended with 0s at the end."
   ]
  },
  {
   "cell_type": "code",
   "execution_count": 22,
   "id": "6a6a9270",
   "metadata": {},
   "outputs": [
    {
     "data": {
      "text/plain": [
       "3"
      ]
     },
     "execution_count": 22,
     "metadata": {},
     "output_type": "execute_result"
    }
   ],
   "source": [
    "# Right Shift operator\n",
    "\n",
    "z=15\n",
    "z>>2\n",
    "\n",
    "# Z =15 = 1111 \n",
    "# Z>>2 = 1111>2 = 11\n",
    "# converting 11 from Binary to numeric will be 3 so we will get 3 as output"
   ]
  },
  {
   "cell_type": "code",
   "execution_count": 25,
   "id": "ce697d1a",
   "metadata": {},
   "outputs": [
    {
     "data": {
      "text/plain": [
       "100"
      ]
     },
     "execution_count": 25,
     "metadata": {},
     "output_type": "execute_result"
    }
   ],
   "source": [
    "y=25\n",
    "y<<2\n",
    "\n",
    "# y=25 = 11001\n",
    "# Z<<2 = it will appended with zeros at the end = 1100100 \n",
    "# Converting 1100100 to numeric = 100 "
   ]
  },
  {
   "cell_type": "markdown",
   "id": "4b2108bb",
   "metadata": {},
   "source": [
    "Q.5. Create a list containing int type data of length 15. Then write a code to check if 10 is\n",
    "present in the list or not."
   ]
  },
  {
   "cell_type": "code",
   "execution_count": 1,
   "id": "4e6da82c",
   "metadata": {},
   "outputs": [
    {
     "data": {
      "text/plain": [
       "15"
      ]
     },
     "execution_count": 1,
     "metadata": {},
     "output_type": "execute_result"
    }
   ],
   "source": [
    "list1=[1,2,3,4,5,6,7,8,9,10,11,12,13,14,15]\n",
    "len(list1)"
   ]
  },
  {
   "cell_type": "code",
   "execution_count": 16,
   "id": "eac9cff5",
   "metadata": {
    "scrolled": true
   },
   "outputs": [
    {
     "name": "stdout",
     "output_type": "stream",
     "text": [
      "yes\n"
     ]
    }
   ],
   "source": [
    "for i in list1:\n",
    "    if i==10:\n",
    "        print('yes')"
   ]
  }
 ],
 "metadata": {
  "kernelspec": {
   "display_name": "Python 3 (ipykernel)",
   "language": "python",
   "name": "python3"
  },
  "language_info": {
   "codemirror_mode": {
    "name": "ipython",
    "version": 3
   },
   "file_extension": ".py",
   "mimetype": "text/x-python",
   "name": "python",
   "nbconvert_exporter": "python",
   "pygments_lexer": "ipython3",
   "version": "3.9.7"
  }
 },
 "nbformat": 4,
 "nbformat_minor": 5
}
