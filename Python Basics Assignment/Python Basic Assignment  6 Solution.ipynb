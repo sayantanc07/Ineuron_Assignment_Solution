{
 "cells": [
  {
   "cell_type": "markdown",
   "id": "04897e88",
   "metadata": {},
   "source": [
    "[assignment 6 question](https://drive.google.com/file/d/14l4HM8YGceev1W3AjA8CYbmw-XO-qIVG/view)"
   ]
  },
  {
   "cell_type": "markdown",
   "id": "edbb4a12",
   "metadata": {},
   "source": [
    "Q.1. What are keywords in Python? Using the keyword library, print all the Python keywords."
   ]
  },
  {
   "cell_type": "markdown",
   "id": "a1893467",
   "metadata": {},
   "source": [
    "**ANS:-** Keywords in Python are reserved words that have predefined meanings and cannot be used as identifiers (variable names, function names, etc.) in the code. These keywords are an essential part of the language and have specific functionalities associated with them.<br> For example, \"if,\" \"else,\" \"while,\" \"for,\" \"def,\" etc., are all keywords in Python."
   ]
  },
  {
   "cell_type": "markdown",
   "id": "ae0015df",
   "metadata": {},
   "source": [
    "Q.2. What are the rules to create variables in python?"
   ]
  },
  {
   "cell_type": "markdown",
   "id": "26a7f33b",
   "metadata": {},
   "source": [
    "**ANS:-**<br>\n",
    "Variable names must start with a letter (a-z, A-Z) or an underscore (_).<br>\n",
    "After the first character, variable names can include letters, numbers (0-9), and underscores.<br>\n",
    "Variable names are case-sensitive.<br>\n",
    "Variable names should not be Python keywords.<br>\n",
    "Variable names should be descriptive and follow the \"snake_case\" naming convention (words separated by underscores).<br>"
   ]
  },
  {
   "cell_type": "markdown",
   "id": "32ba1434",
   "metadata": {},
   "source": [
    "Q.3. What are the standards and conventions followed for the nomenclature of variables in\n",
    "python to improve code readability and maintainability?"
   ]
  },
  {
   "cell_type": "markdown",
   "id": "c68056ac",
   "metadata": {},
   "source": [
    "**ANS-**<br>\n",
    "-Avoid using names that could be easily confused with built-in functions or common terms.<br>\n",
    "-Module names should be short, lowercase, and descriptive. Avoid using special characters. Package names should follow the same rules.<br>\n",
    "-Maintain indentation<br>\n",
    "-Use logging module instead of print<br>"
   ]
  },
  {
   "cell_type": "markdown",
   "id": "b2c1eb35",
   "metadata": {},
   "source": [
    "Q.4. What will happen if a keyword is used as a variable name?"
   ]
  },
  {
   "cell_type": "markdown",
   "id": "d3cf772b",
   "metadata": {},
   "source": [
    "**ANS-** We will get a syntax error then."
   ]
  },
  {
   "cell_type": "code",
   "execution_count": 1,
   "id": "75320042",
   "metadata": {},
   "outputs": [
    {
     "ename": "SyntaxError",
     "evalue": "invalid syntax (Temp/ipykernel_3220/1758765363.py, line 1)",
     "output_type": "error",
     "traceback": [
      "\u001b[1;36m  File \u001b[1;32m\"C:\\Users\\ABC\\AppData\\Local\\Temp/ipykernel_3220/1758765363.py\"\u001b[1;36m, line \u001b[1;32m1\u001b[0m\n\u001b[1;33m    for = 12\u001b[0m\n\u001b[1;37m        ^\u001b[0m\n\u001b[1;31mSyntaxError\u001b[0m\u001b[1;31m:\u001b[0m invalid syntax\n"
     ]
    }
   ],
   "source": [
    "for = 12"
   ]
  },
  {
   "cell_type": "markdown",
   "id": "341a893f",
   "metadata": {},
   "source": [
    "Q.5. For what purpose def keyword is used?"
   ]
  },
  {
   "cell_type": "markdown",
   "id": "ac7b045e",
   "metadata": {},
   "source": [
    "**ANS:-** The def keyword in Python is used to define a function."
   ]
  },
  {
   "cell_type": "code",
   "execution_count": 2,
   "id": "942ab07b",
   "metadata": {},
   "outputs": [],
   "source": [
    "def add(x,y):\n",
    "    return x+y"
   ]
  },
  {
   "cell_type": "code",
   "execution_count": 3,
   "id": "3838afd8",
   "metadata": {},
   "outputs": [
    {
     "data": {
      "text/plain": [
       "15"
      ]
     },
     "execution_count": 3,
     "metadata": {},
     "output_type": "execute_result"
    }
   ],
   "source": [
    "add(6,9)"
   ]
  },
  {
   "cell_type": "markdown",
   "id": "3e5ee009",
   "metadata": {},
   "source": [
    "Q.6. What is the operation of this special character ‘\\’?"
   ]
  },
  {
   "cell_type": "markdown",
   "id": "c0e9506e",
   "metadata": {},
   "source": [
    "**ANS-** Escape characters are used to represent characters that are otherwise difficult to type or would be interpreted as code by the Python interpreter."
   ]
  },
  {
   "cell_type": "code",
   "execution_count": 5,
   "id": "2f02d864",
   "metadata": {
    "scrolled": true
   },
   "outputs": [
    {
     "name": "stdout",
     "output_type": "stream",
     "text": [
      "hello world\n",
      "hello\n",
      " world\n",
      "hello \tworld\n"
     ]
    }
   ],
   "source": [
    "print('hello world')\n",
    "print('hello\\n world')\n",
    "print('hello \\tworld')"
   ]
  },
  {
   "cell_type": "markdown",
   "id": "fd93799d",
   "metadata": {},
   "source": [
    "Q.7. Give an example of the following conditions:<br>\n",
    "(i) Homogeneous list <br>\n",
    "(ii) Heterogeneous set <br>\n",
    "(iii) Homogeneous tuple <br>"
   ]
  },
  {
   "cell_type": "markdown",
   "id": "cf040629",
   "metadata": {},
   "source": [
    "**(i) Homogeneous List:**\n",
    "A homogeneous list is a list where all elements are of the same data type."
   ]
  },
  {
   "cell_type": "code",
   "execution_count": 7,
   "id": "ab8da98a",
   "metadata": {},
   "outputs": [],
   "source": [
    "homogeneous_list = [1, 2, 3, 4, 5]   #all are integers\n"
   ]
  },
  {
   "cell_type": "markdown",
   "id": "396403f2",
   "metadata": {},
   "source": [
    "**(ii) Heterogeneous Set:** A heterogeneous set is a set where elements can be of different data types."
   ]
  },
  {
   "cell_type": "code",
   "execution_count": 10,
   "id": "ef1426fb",
   "metadata": {},
   "outputs": [],
   "source": [
    "heterogeneous_set = {5, 'apple', 8.37, True}  #all elements are different \n"
   ]
  },
  {
   "cell_type": "markdown",
   "id": "aad726b3",
   "metadata": {},
   "source": [
    "**(iii) Homogeneous Tuple**- A homogeneous tuple is a tuple where all elements are of the same data type."
   ]
  },
  {
   "cell_type": "code",
   "execution_count": 11,
   "id": "f36e37c5",
   "metadata": {},
   "outputs": [],
   "source": [
    "homogeneous_tuple = (10, 20, 30, 40, 50)\n"
   ]
  },
  {
   "cell_type": "markdown",
   "id": "9c2735de",
   "metadata": {},
   "source": [
    "Q.8. Explain the mutable and immutable data types with proper explanation & examples."
   ]
  },
  {
   "cell_type": "markdown",
   "id": "f9880dfd",
   "metadata": {},
   "source": [
    "**ANS-** An immutable data type is one whose values cannot be modified once they are created\n",
    "<br> \n",
    "Integers (int) <br> \n",
    "Floating-point numbers (float) <br> \n",
    "Strings (str) <br> \n",
    "Tuples (tuple)<br>\n",
    "Frozensets  (frozensets)"
   ]
  },
  {
   "cell_type": "code",
   "execution_count": 3,
   "id": "82e7dfb2",
   "metadata": {},
   "outputs": [
    {
     "name": "stdout",
     "output_type": "stream",
     "text": [
      "<class 'float'>\n",
      "<class 'int'>\n",
      "<class 'str'>\n",
      "<class 'tuple'>\n",
      "<class 'frozenset'>\n"
     ]
    }
   ],
   "source": [
    "a=3.8\n",
    "print(type(a))\n",
    "b= 4\n",
    "print(type(b))\n",
    "c=\"apple\"\n",
    "print(type(c))\n",
    "d=(3,7)\n",
    "print(type(d))\n",
    "e = frozenset([\"cat\", \"dog\", \"lion\"])\n",
    "print(type(e))\n"
   ]
  },
  {
   "cell_type": "markdown",
   "id": "097adf54",
   "metadata": {},
   "source": [
    "Mutable Data Types:\n",
    "A mutable data type is one whose values can be modified after they are created<br>\n",
    "Lists (list)<br>\n",
    "Dictionaries (dict) <br>\n",
    "Sets (set) <br>"
   ]
  },
  {
   "cell_type": "code",
   "execution_count": 5,
   "id": "d1e2ec1f",
   "metadata": {},
   "outputs": [],
   "source": [
    "list1=[\"ball\", \"bat\", 3,4]\n",
    "list1.append(\"boat\")"
   ]
  },
  {
   "cell_type": "code",
   "execution_count": 6,
   "id": "97f765d7",
   "metadata": {},
   "outputs": [
    {
     "data": {
      "text/plain": [
       "['ball', 'bat', 3, 4, 'boat']"
      ]
     },
     "execution_count": 6,
     "metadata": {},
     "output_type": "execute_result"
    }
   ],
   "source": [
    "list1 #after append"
   ]
  },
  {
   "cell_type": "code",
   "execution_count": 15,
   "id": "52bd5364",
   "metadata": {},
   "outputs": [
    {
     "name": "stdout",
     "output_type": "stream",
     "text": [
      "dict_keys(['a', 'b', 'c'])\n",
      "dict_values([3, 5, 9])\n",
      "{'a': 3, 'b': 5, 'c': 9, 'd': [8, 9]}\n"
     ]
    }
   ],
   "source": [
    "dict1={\"a\":3, \"b\":5, \"c\":9}\n",
    "print(dict1.keys())\n",
    "print(dict1.values())\n",
    "dict1.update({\"d\":[8,9]})\n",
    "print(dict1) # after updating"
   ]
  },
  {
   "cell_type": "code",
   "execution_count": 26,
   "id": "52f68857",
   "metadata": {},
   "outputs": [
    {
     "data": {
      "text/plain": [
       "{1, 2, 3, 8, 9}"
      ]
     },
     "execution_count": 26,
     "metadata": {},
     "output_type": "execute_result"
    }
   ],
   "source": [
    "set1=set([1,2,3])\n",
    "set1.update([8,9])\n",
    "set1"
   ]
  },
  {
   "cell_type": "markdown",
   "id": "ebc730fb",
   "metadata": {},
   "source": [
    "Q.9. Write a code to create the given structure using only for loop.\n",
    "\n",
    "        *\n",
    "       ***\n",
    "      *****\n",
    "     *******\n",
    "    *********"
   ]
  },
  {
   "cell_type": "code",
   "execution_count": 1,
   "id": "28efe753",
   "metadata": {},
   "outputs": [
    {
     "name": "stdout",
     "output_type": "stream",
     "text": [
      "    *\n",
      "   ***\n",
      "  *****\n",
      " *******\n",
      "*********\n"
     ]
    }
   ],
   "source": [
    "#Answer: \n",
    "\n",
    "rows = 5\n",
    "for i in range(1, rows+1):\n",
    "    print(\" \" * (rows-i) + \"*\" * (2*i-1))"
   ]
  },
  {
   "cell_type": "code",
   "execution_count": 14,
   "id": "cdbce877",
   "metadata": {},
   "outputs": [
    {
     "name": "stdout",
     "output_type": "stream",
     "text": [
      "        * \n",
      "      * * * \n",
      "    * * * * * \n",
      "  * * * * * * * \n",
      "* * * * * * * * * \n"
     ]
    }
   ],
   "source": [
    "n=5\n",
    "\n",
    "for i in range(n):\n",
    "    for j in range(n-i-1):\n",
    "        print(\" \", end=\" \")\n",
    "        \n",
    "    for k in range(i+1):\n",
    "        print(\"*\", end=\" \")\n",
    "    for k in range(i): \n",
    "        print(\"*\", end=\" \")\n",
    "    print()"
   ]
  },
  {
   "cell_type": "markdown",
   "id": "fc9fe988",
   "metadata": {},
   "source": [
    "Q.10. Write a code to create the given structure using while loop."
   ]
  },
  {
   "cell_type": "markdown",
   "id": "73200c45",
   "metadata": {},
   "source": [
    "|||||||||<br>\n",
    " |||||||<br>\n",
    "  |||||<br>\n",
    "   |||<br>\n",
    "    |<br>"
   ]
  },
  {
   "cell_type": "code",
   "execution_count": 37,
   "id": "9be05aec",
   "metadata": {},
   "outputs": [
    {
     "name": "stdout",
     "output_type": "stream",
     "text": [
      "| | | | | \n",
      "  | | | | \n",
      "    | | | \n",
      "      | | \n",
      "        | \n"
     ]
    }
   ],
   "source": [
    "#leftside\n",
    "m = 5\n",
    "\n",
    "for i in range(m):\n",
    "    for j in range(i):\n",
    "        print(\" \", end=\" \")\n",
    "    for j in range(m-i):\n",
    "        print(\"|\", end=\" \")\n",
    "        \n",
    "    \n",
    "    print()\n"
   ]
  },
  {
   "cell_type": "code",
   "execution_count": 38,
   "id": "a1fffa0e",
   "metadata": {},
   "outputs": [
    {
     "name": "stdout",
     "output_type": "stream",
     "text": [
      "| | | | \n",
      "| | | \n",
      "| | \n",
      "| \n",
      "\n"
     ]
    }
   ],
   "source": [
    "#right side \n",
    "m=5\n",
    "\n",
    "for i in range(m):\n",
    "    for j in range(m-i-1):\n",
    "        print(\"|\", end=\" \")\n",
    "    print()"
   ]
  },
  {
   "cell_type": "code",
   "execution_count": 39,
   "id": "8bdf4daa",
   "metadata": {},
   "outputs": [
    {
     "name": "stdout",
     "output_type": "stream",
     "text": [
      "| | | | | | | | | \n",
      "  | | | | | | | \n",
      "    | | | | | \n",
      "      | | | \n",
      "        | \n"
     ]
    }
   ],
   "source": [
    "#now i will combine them two:\n",
    "\n",
    "m = 5\n",
    "\n",
    "for i in range(m):\n",
    "    for j in range(i):\n",
    "        print(\" \", end=\" \")\n",
    "    for j in range(m-i):\n",
    "        print(\"|\", end=\" \")\n",
    "    for j in range(m-i-1):\n",
    "        print(\"|\", end=\" \")\n",
    "        \n",
    "    \n",
    "    print()\n",
    "\n"
   ]
  },
  {
   "cell_type": "code",
   "execution_count": null,
   "id": "bb199ab1",
   "metadata": {},
   "outputs": [],
   "source": []
  },
  {
   "cell_type": "code",
   "execution_count": null,
   "id": "35530971",
   "metadata": {},
   "outputs": [],
   "source": []
  },
  {
   "cell_type": "code",
   "execution_count": null,
   "id": "5544a87e",
   "metadata": {},
   "outputs": [],
   "source": []
  }
 ],
 "metadata": {
  "kernelspec": {
   "display_name": "Python 3 (ipykernel)",
   "language": "python",
   "name": "python3"
  },
  "language_info": {
   "codemirror_mode": {
    "name": "ipython",
    "version": 3
   },
   "file_extension": ".py",
   "mimetype": "text/x-python",
   "name": "python",
   "nbconvert_exporter": "python",
   "pygments_lexer": "ipython3",
   "version": "3.9.7"
  }
 },
 "nbformat": 4,
 "nbformat_minor": 5
}
