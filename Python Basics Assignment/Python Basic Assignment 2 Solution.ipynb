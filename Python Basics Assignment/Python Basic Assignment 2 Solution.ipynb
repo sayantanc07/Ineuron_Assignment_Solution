{
 "cells": [
  {
   "cell_type": "markdown",
   "id": "72d66b21",
   "metadata": {},
   "source": [
    "**[Assignment 2 question link](https://drive.google.com/file/d/1eeRUJ1JzCWBWWPi9u3-q8ICJRSQwHUK8/view)**"
   ]
  },
  {
   "cell_type": "markdown",
   "id": "ed9606c9",
   "metadata": {},
   "source": [
    "1.What are the two values of the Boolean data type? How do you write them?"
   ]
  },
  {
   "cell_type": "markdown",
   "id": "7cac96bf",
   "metadata": {},
   "source": [
    "**Ans**-<br>The two values of the Boolean data type are <code>True(1)</code> and <code>False(0)</code> <br>\n",
    "We write them as <code>'True'</code> and <code>'False'</code>\n"
   ]
  },
  {
   "cell_type": "markdown",
   "id": "c66a8d13",
   "metadata": {},
   "source": [
    "2.What are the three different types of Boolean operators?"
   ]
  },
  {
   "cell_type": "markdown",
   "id": "2cc381e1",
   "metadata": {},
   "source": [
    "The three types of Boolean Operators are - <br>\n",
    "<br>**Logical AND** (If both oprands are true it returns true, otherwise false) <br>\n",
    "**Logical OR** (If any oprands are true it returns true,only if both are false it reurns false)<br>\n",
    "**Logical NOT** ( returns true if its operand is a false expression and returns false if it is true)<br>\n"
   ]
  },
  {
   "cell_type": "markdown",
   "id": "79e5cb08",
   "metadata": {},
   "source": [
    "3.Make a list of each Boolean operator's truth tables (i.e. every possible combination of Boolean\n",
    "values for the operator and what it evaluate )."
   ]
  },
  {
   "cell_type": "markdown",
   "id": "38ee1d58",
   "metadata": {},
   "source": [
    "**Truth Table for Logical AND**\n",
    "\n",
    "<table>\n",
    "  <tr>\n",
    "    <th>Operand 1</th>\n",
    "    <th>Operand 2</th>\n",
    "    <th>Output</th>\n",
    "  </tr>\n",
    "  <tr>\n",
    "    <td>False</td>\n",
    "    <td>False</td>\n",
    "    <td>False</td>\n",
    "  </tr>\n",
    "  <tr>\n",
    "    <td>False</td>\n",
    "    <td>True</td>\n",
    "    <td>False</td>\n",
    "  </tr>\n",
    "  <tr>\n",
    "    <td>True</td>\n",
    "    <td>False</td>\n",
    "    <td>False</td>\n",
    "  </tr>\n",
    "  <tr>\n",
    "    <td>True</td>\n",
    "    <td>True</td>\n",
    "    <td>True</td>\n",
    "  </tr>\n",
    "</table>\n",
    "\n",
    "\n",
    "\n"
   ]
  },
  {
   "cell_type": "markdown",
   "id": "87e8d052",
   "metadata": {},
   "source": [
    "**Truth Table for Logical OR**\n",
    "\n",
    "<table>\n",
    "  <tr>\n",
    "    <th>Operand 1</th>\n",
    "    <th>Operand 2</th>\n",
    "    <th>Result</th>\n",
    "  </tr>\n",
    "  <tr>\n",
    "    <td>False</td>\n",
    "    <td>False</td>\n",
    "    <td>False</td>\n",
    "  </tr>\n",
    "  <tr>\n",
    "    <td>False</td>\n",
    "    <td>True</td>\n",
    "    <td>True</td>\n",
    "  </tr>\n",
    "  <tr>\n",
    "    <td>True</td>\n",
    "    <td>False</td>\n",
    "    <td>True</td>\n",
    "  </tr>\n",
    "  <tr>\n",
    "    <td>True</td>\n",
    "    <td>True</td>\n",
    "    <td>True</td>\n",
    "  </tr>\n",
    "</table>\n"
   ]
  },
  {
   "cell_type": "markdown",
   "id": "7ffb8254",
   "metadata": {},
   "source": [
    "**Truth Table for Logical NOT**\n",
    "\n",
    "<table>\n",
    "  <tr>\n",
    "    <th>Operand</th>\n",
    "    <th>Result</th>\n",
    "  </tr>\n",
    "  <tr>\n",
    "    <td>False</td>\n",
    "    <td>True</td>\n",
    "  </tr>\n",
    "  <tr>\n",
    "    <td>True</td>\n",
    "    <td>False</td>\n",
    "  </tr>\n",
    "</table>\n"
   ]
  },
  {
   "cell_type": "markdown",
   "id": "38fe76ac",
   "metadata": {},
   "source": [
    "4. What are the values of the following expressions?<br>\n",
    "(5 > 4) and (3 == 5)<br>\n",
    "not (5 > 4)<br>\n",
    "(5 > 4) or (3 == 5)<br>\n",
    "not ((5 > 4) or (3 == 5))<br>\n",
    "(True and True) and (True == False)<br>\n",
    "(not False) or (not True)<br>"
   ]
  },
  {
   "cell_type": "code",
   "execution_count": 7,
   "id": "fca4230f",
   "metadata": {},
   "outputs": [
    {
     "name": "stdout",
     "output_type": "stream",
     "text": [
      "(5 > 4) and (3 == 5) is False\n",
      "not (5 > 4) is  False\n",
      "(5 > 4) or (3 == 5) is True\n",
      "not ((5 > 4) or (3 == 5)) is False\n",
      "(True and True) and (True == False) is False\n",
      "(not False) or (not True) is True\n"
     ]
    }
   ],
   "source": [
    "print(\"(5 > 4) and (3 == 5) is\",(5 > 4) and (3 == 5))      # (logical AND): True and False oprand result as False\n",
    "print(\"not (5 > 4) is \" ,not (5 > 4))               # not true = False\n",
    "print(\"(5 > 4) or (3 == 5) is\", (5 > 4) or (3 == 5))          # (logical OR): True + False operand result as True\n",
    "print(\"not ((5 > 4) or (3 == 5)) is\", not ((5 > 4) or (3 == 5)))    # (logical OR) : not true + false = false\n",
    "print(\"(True and True) and (True == False) is\",(True and True) and (True == False)) # (logical AND): True + False = False\n",
    "print(\"(not False) or (not True) is\", (not False) or (not True))           # (logical OR): True + False = True"
   ]
  },
  {
   "cell_type": "markdown",
   "id": "264ea0a8",
   "metadata": {},
   "source": [
    "5. What are the six comparison operators?"
   ]
  },
  {
   "cell_type": "markdown",
   "id": "060b6f24",
   "metadata": {},
   "source": [
    "Six comparison operators are : <br>\n",
    "\n",
    "**Equal to (==) <br>\n",
    "Not equal to (!=)<br>\n",
    "Greater than (>)<br>\n",
    "Less than (<)<br>\n",
    "Greater than or equal to (>=)<br>\n",
    "Less than or equal to (<=)**"
   ]
  },
  {
   "cell_type": "markdown",
   "id": "041feb8b",
   "metadata": {},
   "source": [
    "6 .How do you tell the difference between the equal to and assignment operators?Describe a\n",
    "condition and when you would use one."
   ]
  },
  {
   "cell_type": "markdown",
   "id": "1d14a6ac",
   "metadata": {},
   "source": [
    "Equal is denoted as (\" == \") in Python which compare two values. We can easily see there are two equalto sign. <br>\n",
    "While (\" = \") is the assignment operator that stores a value in a variable.\n"
   ]
  },
  {
   "cell_type": "code",
   "execution_count": 12,
   "id": "33f9a09a",
   "metadata": {},
   "outputs": [],
   "source": [
    "# Assigning value to a, b, c, d\n",
    "a=5\n",
    "b=7\n",
    "c=9\n",
    "d=9"
   ]
  },
  {
   "cell_type": "code",
   "execution_count": 13,
   "id": "2a2ca1fb",
   "metadata": {},
   "outputs": [
    {
     "name": "stdout",
     "output_type": "stream",
     "text": [
      "False\n",
      "---------------------------------------------\n",
      "True\n"
     ]
    }
   ],
   "source": [
    "print(a == b) #(Comparing the value of a and b)\n",
    "\n",
    "print(\"---------------------------------------------\")\n",
    "\n",
    "print( c==d) #(Comparing the value of c and d)"
   ]
  },
  {
   "cell_type": "markdown",
   "id": "579c2221",
   "metadata": {},
   "source": [
    "7.Identify the three blocks in this code:"
   ]
  },
  {
   "cell_type": "code",
   "execution_count": 15,
   "id": "973bfd00",
   "metadata": {},
   "outputs": [
    {
     "data": {
      "text/plain": [
       "\"\\nspam = 0\\nif spam == 10:\\nprint('eggs')\\nif spam > 5:\\nprint('bacon')\\nelse:\\nprint('ham')\\nprint('spam')\\nprint('spam')\\n\""
      ]
     },
     "execution_count": 15,
     "metadata": {},
     "output_type": "execute_result"
    }
   ],
   "source": [
    "'''\n",
    "spam = 0\n",
    "if spam == 10:\n",
    "print('eggs')\n",
    "if spam > 5:\n",
    "print('bacon')\n",
    "else:\n",
    "print('ham')\n",
    "print('spam')\n",
    "print('spam')\n",
    "'''"
   ]
  },
  {
   "cell_type": "code",
   "execution_count": 19,
   "id": "9f68f1d9",
   "metadata": {},
   "outputs": [
    {
     "name": "stdout",
     "output_type": "stream",
     "text": [
      "ham\n",
      "spam\n",
      "spam\n"
     ]
    }
   ],
   "source": [
    "spam = 0\n",
    "if spam == 10:\n",
    "    print('eggs')     #(Block 1)\n",
    "if spam > 5:\n",
    "    print('bacon')    #(Block 2)\n",
    "else:\n",
    "    print('ham')      #(Block 3)\n",
    "\n",
    "print('spam')      \n",
    "print('spam')         "
   ]
  },
  {
   "cell_type": "markdown",
   "id": "60a1b399",
   "metadata": {},
   "source": [
    "Q8. Write code that prints Hello if 1 is stored in spam, prints Howdy if 2 is stored in spam, and prints Greetings! if anything else is stored in spam."
   ]
  },
  {
   "cell_type": "code",
   "execution_count": 23,
   "id": "9988e08f",
   "metadata": {},
   "outputs": [
    {
     "name": "stdout",
     "output_type": "stream",
     "text": [
      "enter 1 or 2: 1\n",
      "Hello\n"
     ]
    }
   ],
   "source": [
    "num= int(input(\"enter 1 or 2: \"))\n",
    "\n",
    "if num==1:\n",
    "    print(\"Hello\")\n",
    "elif num==2:\n",
    "    print(\"Howdy\")\n",
    "else:\n",
    "    print(\"Press only 1 or 2\")"
   ]
  },
  {
   "cell_type": "markdown",
   "id": "f2f1bbbb",
   "metadata": {},
   "source": [
    "9.If your programme is stuck in an endless loop, what keys you’ll press?"
   ]
  },
  {
   "cell_type": "markdown",
   "id": "d14ceaf9",
   "metadata": {},
   "source": [
    "If program is stuck in endless loop we will press **Ctrl + C**"
   ]
  },
  {
   "cell_type": "markdown",
   "id": "aae9a814",
   "metadata": {},
   "source": [
    "10.How can you tell the difference between break and continue?"
   ]
  },
  {
   "cell_type": "markdown",
   "id": "ab843e59",
   "metadata": {},
   "source": [
    "A **break** statement is used to terminate the loop whenever a particular condition is satisfied. <br>\n",
    "A **continue** statement is used to skip the mentioned iteration of the loop and move on to the next iteration. It does not terminate the loop.<br> Example given below:"
   ]
  },
  {
   "cell_type": "code",
   "execution_count": 24,
   "id": "c84887ae",
   "metadata": {},
   "outputs": [
    {
     "name": "stdout",
     "output_type": "stream",
     "text": [
      "0\n",
      "1\n",
      "2\n",
      "3\n",
      "4\n",
      "5\n",
      "6\n",
      "8\n",
      "9\n",
      "10\n",
      "11\n"
     ]
    }
   ],
   "source": [
    "for i in range(12): # i=0,1,2,......,11\n",
    "    if i == 7:\n",
    "        continue  # When i is 7, this iteration is skipped\n",
    "    print(i)\n"
   ]
  },
  {
   "cell_type": "code",
   "execution_count": 26,
   "id": "82491997",
   "metadata": {},
   "outputs": [
    {
     "name": "stdout",
     "output_type": "stream",
     "text": [
      "0\n",
      "1\n",
      "2\n",
      "3\n",
      "4\n",
      "5\n",
      "6\n"
     ]
    }
   ],
   "source": [
    "for i in range(12): # i=0,1,2,......,11\n",
    "    if i == 7:\n",
    "        break # When i is 7, the loop get terminated and print value till 6 only\n",
    "    print(i)"
   ]
  },
  {
   "cell_type": "markdown",
   "id": "dbf017bd",
   "metadata": {},
   "source": [
    "In a for loop, what is the difference between range(10), range(0, 10), and range(0, 10, 1)?"
   ]
  },
  {
   "cell_type": "code",
   "execution_count": 34,
   "id": "571f2516",
   "metadata": {},
   "outputs": [
    {
     "name": "stdout",
     "output_type": "stream",
     "text": [
      "0\n",
      "1\n",
      "2\n",
      "3\n",
      "4\n",
      "5\n",
      "6\n",
      "7\n",
      "8\n",
      "9\n",
      "--------------\n",
      "0\n",
      "1\n",
      "2\n",
      "3\n",
      "4\n",
      "5\n",
      "6\n",
      "7\n",
      "8\n",
      "9\n",
      "--------------\n",
      "0\n",
      "1\n",
      "2\n",
      "3\n",
      "4\n",
      "5\n",
      "6\n",
      "7\n",
      "8\n",
      "9\n"
     ]
    }
   ],
   "source": [
    "for i in range(10):\n",
    "    print(i)\n",
    "print(\"--------------\")\n",
    "for i in range(0,10):\n",
    "    print(i)\n",
    "print(\"--------------\")\n",
    "for i in range(0,10,1):\n",
    "    print(i"
   ]
  },
  {
   "cell_type": "markdown",
   "id": "e849b1db",
   "metadata": {},
   "source": [
    "So we can conclude from the above results that there is no difference between them\n",
    "\n"
   ]
  },
  {
   "cell_type": "markdown",
   "id": "76e79bab",
   "metadata": {},
   "source": [
    "12. Write a short program that prints the numbers 1 to 10 using a for loop. Then write an equivalent\n",
    "program that prints the numbers 1 to 10 using a while loop."
   ]
  },
  {
   "cell_type": "code",
   "execution_count": 6,
   "id": "26ceb95c",
   "metadata": {},
   "outputs": [
    {
     "name": "stdout",
     "output_type": "stream",
     "text": [
      "For loop:\n",
      "1\n",
      "2\n",
      "3\n",
      "4\n",
      "5\n",
      "6\n",
      "7\n",
      "8\n",
      "9\n",
      "10\n",
      "-----------------------------\n",
      "While Loop\n",
      "1\n",
      "2\n",
      "3\n",
      "4\n",
      "5\n",
      "6\n",
      "7\n",
      "8\n",
      "9\n",
      "10\n"
     ]
    }
   ],
   "source": [
    "print(\"For loop:\")\n",
    "for i in range(1,11):\n",
    "    print(i)\n",
    "\n",
    "print(\"-----------------------------\")\n",
    "\n",
    "print(\"While Loop\")\n",
    "a=1\n",
    "while a<11:\n",
    "    print(a)\n",
    "    a=a+1"
   ]
  },
  {
   "cell_type": "markdown",
   "id": "cfb69e12",
   "metadata": {},
   "source": [
    "13. If you had a function named bacon() inside a module named spam, how would you call it after\n",
    "importing spam?"
   ]
  },
  {
   "cell_type": "markdown",
   "id": "0a46215b",
   "metadata": {},
   "source": [
    "The function can be called by <code>spam.bacon()"
   ]
  },
  {
   "cell_type": "code",
   "execution_count": null,
   "id": "9562014f",
   "metadata": {},
   "outputs": [],
   "source": []
  },
  {
   "cell_type": "code",
   "execution_count": null,
   "id": "838a2a05",
   "metadata": {},
   "outputs": [],
   "source": []
  }
 ],
 "metadata": {
  "kernelspec": {
   "display_name": "Python 3 (ipykernel)",
   "language": "python",
   "name": "python3"
  },
  "language_info": {
   "codemirror_mode": {
    "name": "ipython",
    "version": 3
   },
   "file_extension": ".py",
   "mimetype": "text/x-python",
   "name": "python",
   "nbconvert_exporter": "python",
   "pygments_lexer": "ipython3",
   "version": "3.9.7"
  }
 },
 "nbformat": 4,
 "nbformat_minor": 5
}
