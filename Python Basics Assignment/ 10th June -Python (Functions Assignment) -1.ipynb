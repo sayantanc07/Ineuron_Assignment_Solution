{
 "cells": [
  {
   "cell_type": "markdown",
   "id": "03f165b8",
   "metadata": {},
   "source": [
    "[question link](https://drive.google.com/file/d/1WGoWzrrIENvKZiuNZdQqKoxeMjmlbvWM/view)"
   ]
  },
  {
   "cell_type": "markdown",
   "id": "4ec38128",
   "metadata": {},
   "source": [
    "1. In Python, what is the difference between a built-in function and a user-defined function? Provide an\n",
    "example of each."
   ]
  },
  {
   "cell_type": "markdown",
   "id": "36c0de06",
   "metadata": {},
   "source": [
    "Built-in functions are pre-defined functions provided by Python itself. They are available for use without needing to define them."
   ]
  },
  {
   "cell_type": "code",
   "execution_count": 24,
   "id": "d24154c9",
   "metadata": {
    "scrolled": true
   },
   "outputs": [
    {
     "name": "stdout",
     "output_type": "stream",
     "text": [
      "enter first number 45\n",
      "enter second number 44\n",
      "sum of 45 and 44 is 89\n"
     ]
    }
   ],
   "source": [
    "#built in function\n",
    "\n",
    "a=int(input(\"enter first number \"))\n",
    "b=int(input(\"enter second number \"))\n",
    "\n",
    "add=sum([a,b])\n",
    "print(f\"sum of {a} and {b} is\" ,add)\n"
   ]
  },
  {
   "cell_type": "markdown",
   "id": "3e856892",
   "metadata": {},
   "source": [
    "User-defined functions are created by the programmer to perform a specific task. They are created using <code>def()</code> keyword"
   ]
  },
  {
   "cell_type": "code",
   "execution_count": 25,
   "id": "4cb719be",
   "metadata": {},
   "outputs": [
    {
     "name": "stdout",
     "output_type": "stream",
     "text": [
      "enter first number 44\n",
      "enter second number 44\n",
      "sum is  88\n"
     ]
    }
   ],
   "source": [
    "#user defined function\n",
    "def add():\n",
    "\n",
    "    a1=int(input(\"enter first number \"))\n",
    "    b1=int(input(\"enter second number \"))\n",
    "    result= a1+b1;\n",
    "    print(\"sum is \",result)\n",
    "\n",
    "add()\n",
    "\n",
    "\n"
   ]
  },
  {
   "cell_type": "markdown",
   "id": "49123828",
   "metadata": {},
   "source": [
    "2. How can you pass arguments to a function in Python? Explain the difference between positional\n",
    "arguments and keyword arguments."
   ]
  },
  {
   "cell_type": "markdown",
   "id": "ea64c77b",
   "metadata": {},
   "source": [
    "In Python, you can pass arguments to a function when calling it. "
   ]
  },
  {
   "cell_type": "markdown",
   "id": "820b0141",
   "metadata": {},
   "source": [
    "Positional arguments are arguments that need to be included in the proper position or order."
   ]
  },
  {
   "cell_type": "code",
   "execution_count": 21,
   "id": "7f8173c5",
   "metadata": {},
   "outputs": [
    {
     "data": {
      "text/plain": [
       "15"
      ]
     },
     "execution_count": 21,
     "metadata": {},
     "output_type": "execute_result"
    }
   ],
   "source": [
    "def mult(x, y):\n",
    "    return x * y\n",
    "\n",
    "result = mult(5, 3)  #  5 is assigned to x, and 3 is assigned to y\n",
    "result\n"
   ]
  },
  {
   "cell_type": "markdown",
   "id": "26ed8a90",
   "metadata": {},
   "source": [
    "Keyword-only arguments are a feature in Python that allows you to specify function arguments that can only be passed using their names (keywords) and cannot be passed as positional arguments.<br>"
   ]
  },
  {
   "cell_type": "code",
   "execution_count": 19,
   "id": "4fa02a9b",
   "metadata": {},
   "outputs": [],
   "source": [
    "def info(age, name, gender):\n",
    "    return f\"Name: {name}, Age: {age}, gender: {gender}\"\n",
    "\n",
    "personal_info= info(26, \"Daniel\", \"male\")  # Order doesn't matter due to keyword arguments\n"
   ]
  },
  {
   "cell_type": "code",
   "execution_count": 20,
   "id": "046fcfe1",
   "metadata": {},
   "outputs": [
    {
     "name": "stdout",
     "output_type": "stream",
     "text": [
      "Name: Daniel, Age: 26, gender: male\n"
     ]
    }
   ],
   "source": [
    "print(personal_info)"
   ]
  },
  {
   "cell_type": "markdown",
   "id": "244b021f",
   "metadata": {},
   "source": [
    "3. What is the purpose of the return statement in a function? Can a function have multiple return\n",
    "statements? Explain with an example."
   ]
  },
  {
   "cell_type": "markdown",
   "id": "bdda2cc5",
   "metadata": {},
   "source": [
    "Ans- The return statement in a function is used to specify the value or values that the function will send back as its output when it is called. <br>\n",
    "There can be more than one return statement but only one return statement will execute. Then the program will terminate<br>\n",
    "\n"
   ]
  },
  {
   "cell_type": "code",
   "execution_count": 43,
   "id": "bad15ab9",
   "metadata": {},
   "outputs": [
    {
     "data": {
      "text/plain": [
       "7"
      ]
     },
     "execution_count": 43,
     "metadata": {},
     "output_type": "execute_result"
    }
   ],
   "source": [
    "def cal(x,y):\n",
    "    return x+y\n",
    "    return x*y\n",
    "\n",
    "cal(3,4)"
   ]
  },
  {
   "cell_type": "code",
   "execution_count": null,
   "id": "ee55a00e",
   "metadata": {},
   "outputs": [],
   "source": []
  },
  {
   "cell_type": "markdown",
   "id": "61eb8e48",
   "metadata": {},
   "source": [
    "4. What are lambda functions in Python? How are they different from regular functions? Provide an\n",
    "example where a lambda function can be useful."
   ]
  },
  {
   "cell_type": "markdown",
   "id": "7f02a1bd",
   "metadata": {},
   "source": [
    "Syntax: <code>lambda arguments : expression </code>"
   ]
  },
  {
   "cell_type": "markdown",
   "id": "5c886842",
   "metadata": {},
   "source": [
    "Whats different from regular function:<br>\n",
    "1.Execution time of the program is fast for the same operation in regular function.<br>\n",
    "2.Do not need to use def()<br>\n",
    "3.No use of return statement"
   ]
  },
  {
   "cell_type": "code",
   "execution_count": 26,
   "id": "1083c51d",
   "metadata": {},
   "outputs": [
    {
     "data": {
      "text/plain": [
       "[2, 4, 6, 8, 10, 12]"
      ]
     },
     "execution_count": 26,
     "metadata": {},
     "output_type": "execute_result"
    }
   ],
   "source": [
    "#example\n",
    "#filtering out even nos from a list using lambda function\n",
    "\n",
    "list1=[1,2,3,4,5,6,7,8,9,10,11,12]\n",
    "\n",
    "even_nos=list(filter(lambda x: x%2==0, list1))\n",
    "even_nos\n"
   ]
  },
  {
   "cell_type": "code",
   "execution_count": 27,
   "id": "e9fe48d6",
   "metadata": {},
   "outputs": [
    {
     "data": {
      "text/plain": [
       "['go', 'cat', 'bat', 'onion', 'utensil', 'dinosaur']"
      ]
     },
     "execution_count": 27,
     "metadata": {},
     "output_type": "execute_result"
    }
   ],
   "source": [
    "#sorting list of strings based on their lengths\n",
    "\n",
    "list2=['cat', 'bat', 'onion', 'utensil', 'dinosaur', 'go']\n",
    "sorted(list2, key= lambda x: len(x))\n"
   ]
  },
  {
   "cell_type": "code",
   "execution_count": 44,
   "id": "3d2953b3",
   "metadata": {},
   "outputs": [
    {
     "data": {
      "text/plain": [
       "[{'name': 'David', 'age': 19, 'major': 'Biology'},\n",
       " {'name': 'Alice', 'age': 20, 'major': 'Computer Science'},\n",
       " {'name': 'Charlie', 'age': 21, 'major': 'Mathematics'},\n",
       " {'name': 'Bob', 'age': 22, 'major': 'Engineering'}]"
      ]
     },
     "execution_count": 44,
     "metadata": {},
     "output_type": "execute_result"
    }
   ],
   "source": [
    "#sorting dictionary based on key\n",
    "students = [\n",
    "    {'name': 'Alice', 'age': 20, 'major': 'Computer Science'},\n",
    "    {'name': 'Bob', 'age': 22, 'major': 'Engineering'},\n",
    "    {'name': 'Charlie', 'age': 21, 'major': 'Mathematics'},\n",
    "    {'name': 'David', 'age': 19, 'major': 'Biology'}\n",
    "]\n",
    "\n",
    "sorted(students, key= lambda x : (x['age'],x['major']))\n",
    "\n",
    "\n"
   ]
  },
  {
   "cell_type": "code",
   "execution_count": 47,
   "id": "986aab7e",
   "metadata": {},
   "outputs": [
    {
     "data": {
      "text/plain": [
       "'b'"
      ]
     },
     "execution_count": 47,
     "metadata": {},
     "output_type": "execute_result"
    }
   ],
   "source": [
    "# max value in a dictionary\n",
    "thisdict = {\n",
    "  \"a\": 23,\n",
    "  \"b\": 54,\n",
    "  \"c\": 47\n",
    "}\n",
    "\n",
    "max(thisdict, key=lambda x: thisdict[x])"
   ]
  },
  {
   "cell_type": "markdown",
   "id": "097a71bd",
   "metadata": {},
   "source": [
    "5. How does the concept of \"scope\" apply to functions in Python? Explain the difference between local\n",
    "scope and global scope."
   ]
  },
  {
   "cell_type": "markdown",
   "id": "23037d63",
   "metadata": {},
   "source": [
    "The concept of \"scope\" in Python refers to the region of the code where a particular variable or name is accessible.<br>\n",
    "there are two types of scopes available in python, Local and Global"
   ]
  },
  {
   "cell_type": "markdown",
   "id": "6c1abfca",
   "metadata": {},
   "source": [
    "**Local -** Local Variables are that cannot be executed outside the function.Their scope is limited to that function only and cannot be accessed from outside the function"
   ]
  },
  {
   "cell_type": "code",
   "execution_count": 37,
   "id": "c9b36c79",
   "metadata": {},
   "outputs": [
    {
     "name": "stdout",
     "output_type": "stream",
     "text": [
      "the value is 20\n"
     ]
    }
   ],
   "source": [
    "def f():\n",
    "    z=20\n",
    "    print(\"the value is\",z )\n",
    "f()"
   ]
  },
  {
   "cell_type": "code",
   "execution_count": 43,
   "id": "8ef8bf5e",
   "metadata": {
    "scrolled": true
   },
   "outputs": [
    {
     "name": "stdout",
     "output_type": "stream",
     "text": [
      "the value is 20\n"
     ]
    },
    {
     "ename": "NameError",
     "evalue": "name 'y' is not defined",
     "output_type": "error",
     "traceback": [
      "\u001b[1;31m---------------------------------------------------------------------------\u001b[0m",
      "\u001b[1;31mNameError\u001b[0m                                 Traceback (most recent call last)",
      "\u001b[1;32m~\\AppData\\Local\\Temp/ipykernel_9992/2908834419.py\u001b[0m in \u001b[0;36m<module>\u001b[1;34m\u001b[0m\n\u001b[0;32m      5\u001b[0m \u001b[1;33m\u001b[0m\u001b[0m\n\u001b[0;32m      6\u001b[0m \u001b[0mfunc\u001b[0m\u001b[1;33m(\u001b[0m\u001b[1;33m)\u001b[0m\u001b[1;33m\u001b[0m\u001b[1;33m\u001b[0m\u001b[0m\n\u001b[1;32m----> 7\u001b[1;33m \u001b[0mprint\u001b[0m\u001b[1;33m(\u001b[0m\u001b[0my\u001b[0m\u001b[1;33m)\u001b[0m \u001b[1;31m# cannot use the variable outside the function as it gives a eeror\u001b[0m\u001b[1;33m\u001b[0m\u001b[1;33m\u001b[0m\u001b[0m\n\u001b[0m",
      "\u001b[1;31mNameError\u001b[0m: name 'y' is not defined"
     ]
    }
   ],
   "source": [
    "\n",
    "def funct():\n",
    "    y=20\n",
    "    print(\"the value is\",y )\n",
    "   \n",
    "    \n",
    "func()\n",
    "print(y) # cannot use the variable outside the function as it gives a eeror"
   ]
  },
  {
   "cell_type": "markdown",
   "id": "f1d07033",
   "metadata": {},
   "source": [
    "**Global -** global variables are accessible throughout the program and inside every function. \n",
    "\n",
    "<code>examples are given below</code>"
   ]
  },
  {
   "cell_type": "code",
   "execution_count": 44,
   "id": "47d56c6a",
   "metadata": {},
   "outputs": [
    {
     "name": "stdout",
     "output_type": "stream",
     "text": [
      "the value is 23\n",
      "23\n"
     ]
    }
   ],
   "source": [
    "def fu():\n",
    "    global k\n",
    "    k=23\n",
    "    print(\"the value is\",k)\n",
    "\n",
    "fu()\n",
    "print(k) # now we can use the value also outside the function defined"
   ]
  },
  {
   "cell_type": "code",
   "execution_count": 64,
   "id": "2c831131",
   "metadata": {},
   "outputs": [
    {
     "name": "stdout",
     "output_type": "stream",
     "text": [
      "0th multiple of 23 is 0\n",
      "1st multiple of 23 is 23\n",
      "2nd multiple of 23 is 46\n",
      "3rd multiple of 23 is 69\n",
      "4th multiple of 23 is 92\n",
      "5th multiple of 23 is 115\n",
      "6th multiple of 23 is 138\n",
      "7th multiple of 23 is 161\n",
      "8th multiple of 23 is 184\n",
      "9th multiple of 23 is 207\n",
      "10th multiple of 23 is 230\n"
     ]
    }
   ],
   "source": [
    "\n",
    "def mult_of_fu() :\n",
    "    i=0\n",
    "    while i<=10:\n",
    "        if i==1: \n",
    "            w=\"st\"\n",
    "        elif i==2:\n",
    "            w=\"nd\"\n",
    "        elif i==3:\n",
    "            w=\"rd\"\n",
    "        else:\n",
    "            w=\"th\"\n",
    "        print(f\"{i}{w} multiple of {k} is\", k*i)\n",
    "        i+=1\n",
    "    \n",
    "mult_of_fu()  #Here i have used the global variable k in a different function"
   ]
  },
  {
   "cell_type": "markdown",
   "id": "75df98ef",
   "metadata": {},
   "source": [
    "6. How can you use the \"return\" statement in a Python function to return multiple values?"
   ]
  },
  {
   "cell_type": "code",
   "execution_count": 52,
   "id": "e734a9ea",
   "metadata": {},
   "outputs": [
    {
     "data": {
      "text/plain": [
       "(7, 12)"
      ]
     },
     "execution_count": 52,
     "metadata": {},
     "output_type": "execute_result"
    }
   ],
   "source": [
    "def cal(x,y):\n",
    "    return x+y,x*y\n",
    "\n",
    "cal(3,4)"
   ]
  },
  {
   "cell_type": "markdown",
   "id": "631b03a4",
   "metadata": {},
   "source": [
    "7. What is the difference between the \"pass by value\" and \"pass by reference\" concepts when it\n",
    "comes to function arguments in Python?"
   ]
  },
  {
   "cell_type": "markdown",
   "id": "2ab00a10",
   "metadata": {},
   "source": [
    "In Python, the concepts of \"pass by value\" and \"pass by reference\"is a bit misleading, as Python uses a different mechanism known as \"pass by object reference.\" This means that when someone pass an argument to a function, they are passing a reference to the object, not the actual object itself. However, the behavior can appear similar to both \"pass by value\" and \"pass by reference\"."
   ]
  },
  {
   "cell_type": "code",
   "execution_count": 65,
   "id": "ea1ab627",
   "metadata": {},
   "outputs": [
    {
     "name": "stdout",
     "output_type": "stream",
     "text": [
      "old no is 20\n",
      "new no is 20\n"
     ]
    }
   ],
   "source": [
    "a=20\n",
    "def num(x):\n",
    "    x=x+10\n",
    "    print(\"new num is\", x)\n",
    "\n",
    "print(\"old no is\",a)\n",
    "print(\"new no is\", x)\n",
    "\n"
   ]
  },
  {
   "cell_type": "code",
   "execution_count": 71,
   "id": "fa84f8ca",
   "metadata": {},
   "outputs": [
    {
     "name": "stdout",
     "output_type": "stream",
     "text": [
      "f fefore calling 2678258625424\n",
      "old no is 20\n",
      "new no is 20\n",
      "new id is 2678258625424\n"
     ]
    }
   ],
   "source": [
    "f=20\n",
    "def nu(f):\n",
    "    print(\"old id is\",id(f))\n",
    "    f=f+10\n",
    "    print(\"new id is\",id(f))\n",
    "\n",
    "print(\"f fefore calling\",id(f))\n",
    "print(\"old no is\",f)\n",
    "print(\"new no is\", f)\n",
    "print(\"new id is\",id(f))\n"
   ]
  },
  {
   "cell_type": "markdown",
   "id": "b2152723",
   "metadata": {},
   "source": [
    "$$ \n",
    "8. Create\\ a\\ function\\ that\\ can\\ intake\\ integer\\ or\\ decimal\\ value\\ and\\ do\\ following\\ operations:\\\\\n",
    "a. Logarithmic\\ function\\ (log x)\\\\\n",
    "b. Exponential\\ function\\ (exp(x))\\\\\n",
    "c. Power\\ function\\ with\\ base\\ 2(2^{x})\\\\\n",
    "d. Square\\ root \n",
    "$$"
   ]
  },
  {
   "cell_type": "code",
   "execution_count": 10,
   "id": "1cd4b52e",
   "metadata": {},
   "outputs": [
    {
     "name": "stdout",
     "output_type": "stream",
     "text": [
      "enter a num\t100\n",
      "natural logarithm value is 4.605170185988092\n",
      "natural exponential value is 2.6881171418161356e+43\n",
      "power function value 2535301200456458802993406410752\n",
      "square root is 10.0\n"
     ]
    }
   ],
   "source": [
    "import math\n",
    "def transform():\n",
    "    x=int(input(\"enter a num\\t\"))\n",
    "    \n",
    "    logvalue = math.log(x)\n",
    "    exponentialvalue= math.exp(x)\n",
    "    powerfunc= 2*pow(2,x)\n",
    "    squareroot= math.sqrt(x)\n",
    "    \n",
    "    print(\"natural logarithm value is\", logvalue)\n",
    "    print(\"natural exponential value is\", exponentialvalue)\n",
    "    print(\"power function value\", powerfunc)\n",
    "    print(\"square root is\", squareroot)\n",
    "\n",
    "transform()"
   ]
  },
  {
   "cell_type": "markdown",
   "id": "6b36f92e",
   "metadata": {},
   "source": [
    "9. Create a function that takes a full name as an argument and returns first name and last name."
   ]
  },
  {
   "cell_type": "code",
   "execution_count": 79,
   "id": "afa15fb0",
   "metadata": {},
   "outputs": [
    {
     "name": "stdout",
     "output_type": "stream",
     "text": [
      "enter fullname:-\n",
      "Virat Kohli\n",
      "first name is:- Virat\n",
      "last name is:- Kohli\n"
     ]
    }
   ],
   "source": [
    "try:\n",
    "    info=input(\"enter fullname:-\\n\")\n",
    "\n",
    "    split=info.split(\" \")\n",
    "\n",
    "    fname=split[0]\n",
    "    lname=split[1]\n",
    "\n",
    "    print('first name is:-', fname)\n",
    "    print('last name is:-', lname)\n",
    "except IndexError:\n",
    "    print(\"Check!Put a space while entering firstname and lastname\")\n",
    "\n"
   ]
  },
  {
   "cell_type": "code",
   "execution_count": null,
   "id": "4abee53f",
   "metadata": {},
   "outputs": [],
   "source": []
  },
  {
   "cell_type": "code",
   "execution_count": null,
   "id": "b703edd1",
   "metadata": {},
   "outputs": [],
   "source": []
  },
  {
   "cell_type": "code",
   "execution_count": null,
   "id": "39ab4b14",
   "metadata": {},
   "outputs": [],
   "source": []
  },
  {
   "cell_type": "code",
   "execution_count": null,
   "id": "9dc95638",
   "metadata": {},
   "outputs": [],
   "source": []
  },
  {
   "cell_type": "code",
   "execution_count": null,
   "id": "09f2872d",
   "metadata": {},
   "outputs": [],
   "source": []
  },
  {
   "cell_type": "code",
   "execution_count": null,
   "id": "7f162ed2",
   "metadata": {},
   "outputs": [],
   "source": []
  },
  {
   "cell_type": "code",
   "execution_count": null,
   "id": "5a2adf23",
   "metadata": {},
   "outputs": [],
   "source": []
  },
  {
   "cell_type": "code",
   "execution_count": null,
   "id": "fdcb70f0",
   "metadata": {},
   "outputs": [],
   "source": []
  },
  {
   "cell_type": "code",
   "execution_count": null,
   "id": "0cfd81da",
   "metadata": {},
   "outputs": [],
   "source": []
  },
  {
   "cell_type": "code",
   "execution_count": null,
   "id": "3d884856",
   "metadata": {},
   "outputs": [],
   "source": []
  }
 ],
 "metadata": {
  "kernelspec": {
   "display_name": "Python 3 (ipykernel)",
   "language": "python",
   "name": "python3"
  },
  "language_info": {
   "codemirror_mode": {
    "name": "ipython",
    "version": 3
   },
   "file_extension": ".py",
   "mimetype": "text/x-python",
   "name": "python",
   "nbconvert_exporter": "python",
   "pygments_lexer": "ipython3",
   "version": "3.9.7"
  }
 },
 "nbformat": 4,
 "nbformat_minor": 5
}
