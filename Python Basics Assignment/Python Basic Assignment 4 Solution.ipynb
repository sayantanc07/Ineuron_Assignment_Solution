{
 "cells": [
  {
   "cell_type": "markdown",
   "id": "caef2753",
   "metadata": {},
   "source": [
    "1. What exactly is []?"
   ]
  },
  {
   "cell_type": "markdown",
   "id": "4af91666",
   "metadata": {},
   "source": [
    "**Ans :-** [ ] is a empty list, like a =[ ]"
   ]
  },
  {
   "cell_type": "markdown",
   "id": "913888f1",
   "metadata": {},
   "source": [
    "2. In a list of values stored in a variable called spam, how would you assign the value &#39;hello&#39; as the\n",
    "third value? <br>(Assume [2, 4, 6, 8, 10] are in spam.)"
   ]
  },
  {
   "cell_type": "code",
   "execution_count": 2,
   "id": "f3af209a",
   "metadata": {},
   "outputs": [],
   "source": [
    "spam=[2, 4, 6, 8, 10]\n",
    "spam[2]=\"hello\"\n"
   ]
  },
  {
   "cell_type": "code",
   "execution_count": 3,
   "id": "e2c69cd9",
   "metadata": {},
   "outputs": [
    {
     "name": "stdout",
     "output_type": "stream",
     "text": [
      "[2, 4, 'hello', 8, 10]\n"
     ]
    }
   ],
   "source": [
    "print(spam)"
   ]
  },
  {
   "cell_type": "markdown",
   "id": "e4657b2d",
   "metadata": {},
   "source": [
    "3. What is the value of spam[int(int(&#39;3&#39; * 2) / 11)]?"
   ]
  },
  {
   "cell_type": "code",
   "execution_count": 4,
   "id": "326ada70",
   "metadata": {},
   "outputs": [
    {
     "data": {
      "text/plain": [
       "8"
      ]
     },
     "execution_count": 4,
     "metadata": {},
     "output_type": "execute_result"
    }
   ],
   "source": [
    "spam[int(int('3' * 2) / 11)]"
   ]
  },
  {
   "cell_type": "markdown",
   "id": "7464059d",
   "metadata": {},
   "source": [
    "4. What is the value of spam[-1]?"
   ]
  },
  {
   "cell_type": "markdown",
   "id": "c2199747",
   "metadata": {},
   "source": [
    "**ANS:-** The value of the last element of spam is 10"
   ]
  },
  {
   "cell_type": "code",
   "execution_count": 5,
   "id": "b11ab599",
   "metadata": {},
   "outputs": [
    {
     "data": {
      "text/plain": [
       "10"
      ]
     },
     "execution_count": 5,
     "metadata": {},
     "output_type": "execute_result"
    }
   ],
   "source": [
    "spam[-1]"
   ]
  },
  {
   "cell_type": "markdown",
   "id": "151512d9",
   "metadata": {},
   "source": [
    "5. What is the value of spam[:2]?<br> "
   ]
  },
  {
   "cell_type": "code",
   "execution_count": 6,
   "id": "8988cb69",
   "metadata": {},
   "outputs": [
    {
     "data": {
      "text/plain": [
       "[2, 4]"
      ]
     },
     "execution_count": 6,
     "metadata": {},
     "output_type": "execute_result"
    }
   ],
   "source": [
    "spam[:2]"
   ]
  },
  {
   "cell_type": "markdown",
   "id": "fa9e4ff5",
   "metadata": {},
   "source": [
    "#### Let&#39;s pretend bacon has the list [3.14, &#39;cat,&#39; 11, &#39;cat,&#39; True] for the next three questions."
   ]
  },
  {
   "cell_type": "code",
   "execution_count": 11,
   "id": "dc68090b",
   "metadata": {},
   "outputs": [],
   "source": [
    "bacon= [3.14, 'cat', 11, 'cat', True] "
   ]
  },
  {
   "cell_type": "markdown",
   "id": "d6aaf3b9",
   "metadata": {},
   "source": [
    "6. What is the value of bacon.index(&#39;cat&#39;)?"
   ]
  },
  {
   "cell_type": "code",
   "execution_count": 14,
   "id": "2dc2fef1",
   "metadata": {},
   "outputs": [
    {
     "data": {
      "text/plain": [
       "1"
      ]
     },
     "execution_count": 14,
     "metadata": {},
     "output_type": "execute_result"
    }
   ],
   "source": [
    "bacon.index('cat')  # the value is 1"
   ]
  },
  {
   "cell_type": "markdown",
   "id": "b41a21d3",
   "metadata": {},
   "source": [
    "7. How does bacon.append(99) change the look of the list value in bacon?"
   ]
  },
  {
   "cell_type": "code",
   "execution_count": 15,
   "id": "03c2e0ed",
   "metadata": {},
   "outputs": [],
   "source": [
    "bacon.append(99)"
   ]
  },
  {
   "cell_type": "code",
   "execution_count": 17,
   "id": "421cfedb",
   "metadata": {},
   "outputs": [
    {
     "name": "stdout",
     "output_type": "stream",
     "text": [
      "[3.14, 'cat', 11, 'cat', True, 99]\n"
     ]
    }
   ],
   "source": [
    "print(bacon)  # it has added 99 at the end of the list"
   ]
  },
  {
   "cell_type": "markdown",
   "id": "59f43942",
   "metadata": {},
   "source": [
    "8. How does bacon.remove(&#39;cat&#39;) change the look of the list in bacon?"
   ]
  },
  {
   "cell_type": "code",
   "execution_count": 18,
   "id": "596e5834",
   "metadata": {},
   "outputs": [],
   "source": [
    "bacon.remove('cat')"
   ]
  },
  {
   "cell_type": "code",
   "execution_count": 19,
   "id": "f3f9d5d8",
   "metadata": {},
   "outputs": [
    {
     "data": {
      "text/plain": [
       "[3.14, 11, 'cat', True, 99]"
      ]
     },
     "execution_count": 19,
     "metadata": {},
     "output_type": "execute_result"
    }
   ],
   "source": [
    "bacon  # it has removed the 'cat' at first occarance"
   ]
  },
  {
   "cell_type": "markdown",
   "id": "4d3e9794",
   "metadata": {},
   "source": [
    "9. What are the list concatenation and list replication operators?"
   ]
  },
  {
   "cell_type": "markdown",
   "id": "71d11a9d",
   "metadata": {},
   "source": [
    "**ANS:-** List concatenation operator is <code>+</code><br>\n",
    "        <br>and List Replication operator is <code>*</code>"
   ]
  },
  {
   "cell_type": "code",
   "execution_count": 26,
   "id": "20a2fc79",
   "metadata": {},
   "outputs": [
    {
     "data": {
      "text/plain": [
       "[5, 'apple', 7, 4, 7, 'hat', 9, 2, 'ball']"
      ]
     },
     "execution_count": 26,
     "metadata": {},
     "output_type": "execute_result"
    }
   ],
   "source": [
    "l1=[5, 'apple', 7, 4, 7, 'hat']\n",
    "l2=[9,2,'ball']\n",
    "\n",
    "l1+l2 # concat\n"
   ]
  },
  {
   "cell_type": "code",
   "execution_count": 30,
   "id": "8148b3a2",
   "metadata": {},
   "outputs": [
    {
     "data": {
      "text/plain": [
       "[9, 2, 'ball', 9, 2, 'ball', 9, 2, 'ball']"
      ]
     },
     "execution_count": 30,
     "metadata": {},
     "output_type": "execute_result"
    }
   ],
   "source": [
    "l2*3 # list replication three times"
   ]
  },
  {
   "cell_type": "markdown",
   "id": "303558ca",
   "metadata": {},
   "source": [
    "10.  What is difference between the list methods append() and insert()?"
   ]
  },
  {
   "cell_type": "markdown",
   "id": "794cf9ef",
   "metadata": {},
   "source": [
    "**ANS:-** append() adds a value at the end of the list but insert adds value as per the users instructed position\n"
   ]
  },
  {
   "cell_type": "code",
   "execution_count": 44,
   "id": "ca5e6a94",
   "metadata": {},
   "outputs": [
    {
     "data": {
      "text/plain": [
       "[9, 2, 'ball']"
      ]
     },
     "execution_count": 44,
     "metadata": {},
     "output_type": "execute_result"
    }
   ],
   "source": [
    "l2"
   ]
  },
  {
   "cell_type": "code",
   "execution_count": 45,
   "id": "863f6cbc",
   "metadata": {},
   "outputs": [
    {
     "name": "stdout",
     "output_type": "stream",
     "text": [
      "[9, 2, 'ball', 'ineuron']\n"
     ]
    }
   ],
   "source": [
    "l2.append('ineuron')\n",
    "print(l2)"
   ]
  },
  {
   "cell_type": "code",
   "execution_count": 55,
   "id": "b06ee9d7",
   "metadata": {},
   "outputs": [
    {
     "name": "stdout",
     "output_type": "stream",
     "text": [
      "[9, 2, 'ball', 'bat', 'ineuron']\n"
     ]
    }
   ],
   "source": [
    "l2.insert(3, 'bat') #add bat as third index\n",
    "print(l2)"
   ]
  },
  {
   "cell_type": "markdown",
   "id": "5604ae8b",
   "metadata": {},
   "source": [
    "11. What are the two methods for removing items from a list?"
   ]
  },
  {
   "cell_type": "markdown",
   "id": "537bba50",
   "metadata": {},
   "source": [
    "**ANS:-** <code>remove()</code> and <code>pop()</code> are two methods used for removing item in list"
   ]
  },
  {
   "cell_type": "code",
   "execution_count": 52,
   "id": "4525c874",
   "metadata": {},
   "outputs": [
    {
     "data": {
      "text/plain": [
       "[9, 2, 'ball', 'bat', 'ineuron']"
      ]
     },
     "execution_count": 52,
     "metadata": {},
     "output_type": "execute_result"
    }
   ],
   "source": [
    "l2"
   ]
  },
  {
   "cell_type": "code",
   "execution_count": 56,
   "id": "23290142",
   "metadata": {
    "scrolled": true
   },
   "outputs": [
    {
     "name": "stdout",
     "output_type": "stream",
     "text": [
      "[9, 2, 'ball', 'ineuron']\n"
     ]
    }
   ],
   "source": [
    "l2.remove('bat') # remove \n",
    "print(l2)"
   ]
  },
  {
   "cell_type": "code",
   "execution_count": 60,
   "id": "044a15c8",
   "metadata": {},
   "outputs": [
    {
     "name": "stdout",
     "output_type": "stream",
     "text": [
      "[9, 'ball', 'ineuron']\n"
     ]
    }
   ],
   "source": [
    "l2.pop(1) # Remove and returns item at index (default last).\n",
    "print(l2)"
   ]
  },
  {
   "cell_type": "markdown",
   "id": "c883ca44",
   "metadata": {},
   "source": [
    "12. Describe how list values and string values are identical."
   ]
  },
  {
   "cell_type": "markdown",
   "id": "9e08acde",
   "metadata": {},
   "source": [
    "**ANS:-**<br>\n",
    "Both lists and strings can be passed to len()<br>\n",
    "Both lists and strings are sequences of elements. Lists are sequence of different kind of elements and strings are sequence of characters. <br>\n",
    "Both support slicing\n",
    "\n"
   ]
  },
  {
   "cell_type": "markdown",
   "id": "eb6b0063",
   "metadata": {},
   "source": [
    "13. What&#39;s the difference between tuples and lists?"
   ]
  },
  {
   "cell_type": "markdown",
   "id": "f35e28dd",
   "metadata": {},
   "source": [
    "**ANS:-** <br>Lists are mutable , tuples are not<br>\n",
    "lists consumes more memory and tuples consumes comparatively less memory<br>\n",
    "lists are created within <code> [] </code> and tuples are created within <code>()</code>"
   ]
  },
  {
   "cell_type": "markdown",
   "id": "e1a50743",
   "metadata": {},
   "source": [
    "14. How do you type a tuple value that only contains the integer 42?"
   ]
  },
  {
   "cell_type": "code",
   "execution_count": 64,
   "id": "a549ea74",
   "metadata": {},
   "outputs": [
    {
     "name": "stdout",
     "output_type": "stream",
     "text": [
      "<class 'tuple'>\n"
     ]
    }
   ],
   "source": [
    "tup1=(42,)\n",
    "print(type(tup1))"
   ]
  },
  {
   "cell_type": "markdown",
   "id": "82602b70",
   "metadata": {},
   "source": [
    "15. How do you get a list value&#39;s tuple form? How do you get a tuple value&#39;s list form?"
   ]
  },
  {
   "cell_type": "code",
   "execution_count": 68,
   "id": "3dea0ee8",
   "metadata": {},
   "outputs": [
    {
     "name": "stdout",
     "output_type": "stream",
     "text": [
      "('March', 'April', 'May', 'June')\n",
      "-----------------------------------\n",
      "<class 'tuple'>\n"
     ]
    }
   ],
   "source": [
    "list2=['March', 'April', 'May', 'June']\n",
    "tup2=tuple(list2)\n",
    "print(tup2)\n",
    "print(\"-----------------------------------\")\n",
    "print(type(tup2))\n"
   ]
  },
  {
   "cell_type": "code",
   "execution_count": 71,
   "id": "5425711a",
   "metadata": {},
   "outputs": [
    {
     "name": "stdout",
     "output_type": "stream",
     "text": [
      "[0, 2, 4, 6, 8]\n",
      "-----------------------------------\n",
      "<class 'list'>\n"
     ]
    }
   ],
   "source": [
    "tup3 = (0, 2, 4, 6, 8)\n",
    "list3 = list(tup3)\n",
    "print(list3)\n",
    "print(\"-----------------------------------\")\n",
    "print(type(list3))"
   ]
  },
  {
   "cell_type": "markdown",
   "id": "42d96ac3",
   "metadata": {},
   "source": [
    "16. Variables that &quot;contain&quot; list values are not necessarily lists themselves. Instead, what do they\n",
    "contain?"
   ]
  },
  {
   "cell_type": "markdown",
   "id": "08904cda",
   "metadata": {},
   "source": [
    "They contain references to list values"
   ]
  },
  {
   "cell_type": "markdown",
   "id": "72061b8a",
   "metadata": {},
   "source": [
    "17. How do you distinguish between copy.copy() and copy.deepcopy()?"
   ]
  },
  {
   "cell_type": "code",
   "execution_count": 120,
   "id": "809259eb",
   "metadata": {},
   "outputs": [],
   "source": [
    "#shallow copy nested list\n",
    "lst7=[[1,5,3,8],[12,13,14,15]]\n",
    "lst8=lst7.copy()\n"
   ]
  },
  {
   "cell_type": "code",
   "execution_count": 121,
   "id": "e060527d",
   "metadata": {},
   "outputs": [],
   "source": [
    "lst7[1][0]=19"
   ]
  },
  {
   "cell_type": "code",
   "execution_count": 122,
   "id": "ce06f1dd",
   "metadata": {},
   "outputs": [
    {
     "data": {
      "text/plain": [
       "[[1, 5, 3, 8], [19, 13, 14, 15]]"
      ]
     },
     "execution_count": 122,
     "metadata": {},
     "output_type": "execute_result"
    }
   ],
   "source": [
    "lst7 # change in lst7 "
   ]
  },
  {
   "cell_type": "code",
   "execution_count": 123,
   "id": "1fa20896",
   "metadata": {},
   "outputs": [
    {
     "data": {
      "text/plain": [
       "[[1, 5, 3, 8], [19, 13, 14, 15]]"
      ]
     },
     "execution_count": 123,
     "metadata": {},
     "output_type": "execute_result"
    }
   ],
   "source": [
    "lst8  # got updated in lst8 as well"
   ]
  },
  {
   "cell_type": "code",
   "execution_count": 124,
   "id": "90fda2c0",
   "metadata": {},
   "outputs": [],
   "source": [
    "lst7.append([4,2,6,3])"
   ]
  },
  {
   "cell_type": "code",
   "execution_count": 125,
   "id": "279f7a8e",
   "metadata": {},
   "outputs": [
    {
     "data": {
      "text/plain": [
       "[[1, 5, 3, 8], [19, 13, 14, 15], [4, 2, 6, 3]]"
      ]
     },
     "execution_count": 125,
     "metadata": {},
     "output_type": "execute_result"
    }
   ],
   "source": [
    "lst7 # changes in lst7"
   ]
  },
  {
   "cell_type": "code",
   "execution_count": 126,
   "id": "6bfd0be8",
   "metadata": {},
   "outputs": [
    {
     "data": {
      "text/plain": [
       "[[1, 5, 3, 8], [19, 13, 14, 15]]"
      ]
     },
     "execution_count": 126,
     "metadata": {},
     "output_type": "execute_result"
    }
   ],
   "source": [
    "lst8 # didnt get update in lst8"
   ]
  },
  {
   "cell_type": "code",
   "execution_count": 127,
   "id": "8e6bb9fd",
   "metadata": {},
   "outputs": [],
   "source": [
    "#deepcopy\n",
    "\n",
    "import copy"
   ]
  },
  {
   "cell_type": "code",
   "execution_count": 129,
   "id": "3224ff54",
   "metadata": {},
   "outputs": [],
   "source": [
    "list1=[1,2,3,4]\n",
    "list2=copy.deepcopy(list1)"
   ]
  },
  {
   "cell_type": "code",
   "execution_count": 131,
   "id": "bbe6016c",
   "metadata": {},
   "outputs": [],
   "source": [
    "list2[1]=100"
   ]
  },
  {
   "cell_type": "code",
   "execution_count": 132,
   "id": "d5081469",
   "metadata": {},
   "outputs": [
    {
     "data": {
      "text/plain": [
       "[1, 100, 3, 4]"
      ]
     },
     "execution_count": 132,
     "metadata": {},
     "output_type": "execute_result"
    }
   ],
   "source": [
    "list2"
   ]
  },
  {
   "cell_type": "code",
   "execution_count": 133,
   "id": "493e9db4",
   "metadata": {},
   "outputs": [
    {
     "data": {
      "text/plain": [
       "[1, 2, 3, 4]"
      ]
     },
     "execution_count": 133,
     "metadata": {},
     "output_type": "execute_result"
    }
   ],
   "source": [
    "list1"
   ]
  },
  {
   "cell_type": "code",
   "execution_count": null,
   "id": "a5630c5f",
   "metadata": {},
   "outputs": [],
   "source": [
    "# in normal list shallowcopy=deepcopy"
   ]
  },
  {
   "cell_type": "code",
   "execution_count": 134,
   "id": "e1c0f21b",
   "metadata": {},
   "outputs": [],
   "source": [
    "list3=[[1,2,3],[4,5,6],[7,8,9]]\n",
    "list4=copy.deepcopy(list3)"
   ]
  },
  {
   "cell_type": "code",
   "execution_count": 135,
   "id": "775e5c51",
   "metadata": {},
   "outputs": [],
   "source": [
    "list4[1][0]=80"
   ]
  },
  {
   "cell_type": "code",
   "execution_count": 136,
   "id": "d683219c",
   "metadata": {},
   "outputs": [
    {
     "data": {
      "text/plain": [
       "[[1, 2, 3], [80, 5, 6], [7, 8, 9]]"
      ]
     },
     "execution_count": 136,
     "metadata": {},
     "output_type": "execute_result"
    }
   ],
   "source": [
    "list4"
   ]
  },
  {
   "cell_type": "code",
   "execution_count": 137,
   "id": "55ec6006",
   "metadata": {},
   "outputs": [
    {
     "data": {
      "text/plain": [
       "[[1, 2, 3], [4, 5, 6], [7, 8, 9]]"
      ]
     },
     "execution_count": 137,
     "metadata": {},
     "output_type": "execute_result"
    }
   ],
   "source": [
    "list3"
   ]
  },
  {
   "cell_type": "code",
   "execution_count": null,
   "id": "9f1a0840",
   "metadata": {},
   "outputs": [],
   "source": []
  }
 ],
 "metadata": {
  "kernelspec": {
   "display_name": "Python 3 (ipykernel)",
   "language": "python",
   "name": "python3"
  },
  "language_info": {
   "codemirror_mode": {
    "name": "ipython",
    "version": 3
   },
   "file_extension": ".py",
   "mimetype": "text/x-python",
   "name": "python",
   "nbconvert_exporter": "python",
   "pygments_lexer": "ipython3",
   "version": "3.9.7"
  }
 },
 "nbformat": 4,
 "nbformat_minor": 5
}
