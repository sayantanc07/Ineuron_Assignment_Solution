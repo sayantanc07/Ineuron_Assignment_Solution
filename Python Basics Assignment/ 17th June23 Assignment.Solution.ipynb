{
 "cells": [
  {
   "cell_type": "markdown",
   "id": "66b005c0",
   "metadata": {},
   "source": [
    "1. What is the role of try and exception block?"
   ]
  },
  {
   "cell_type": "markdown",
   "id": "7d006504",
   "metadata": {},
   "source": [
    "**ANS-** Try and Except statement is used to handle these errors within code in Python. The try block is used to check some code for errors i.e the code inside the try block will execute when there is no error in the program. Whereas the code inside the except block will execute whenever the program encounters some error in the preceding try block."
   ]
  },
  {
   "cell_type": "markdown",
   "id": "7cfad87b",
   "metadata": {},
   "source": [
    "2. What is the syntax for a basic try-except block?"
   ]
  },
  {
   "cell_type": "markdown",
   "id": "5a398881",
   "metadata": {},
   "source": [
    "try:\n",
    "    statement\n",
    "except:\n",
    "    statement\n",
    "except:\n",
    "    statement"
   ]
  },
  {
   "cell_type": "code",
   "execution_count": 68,
   "id": "6bb769e6",
   "metadata": {},
   "outputs": [
    {
     "name": "stdout",
     "output_type": "stream",
     "text": [
      "ZeroDivisionError Occurred and Handled\n"
     ]
    }
   ],
   "source": [
    "# example\n",
    "\n",
    "def f(a):\n",
    "    if a < 4:\n",
    "        b = a/(a-3)\n",
    "    print(\"Value of b = \", b)\n",
    "      \n",
    "try:\n",
    "    f(3)\n",
    "    f(5)\n",
    "except ZeroDivisionError:\n",
    "    print(\"ZeroDivisionError Occurred and Handled\")\n",
    "except NameError:\n",
    "    print(\"NameError Occurred and Handled\")"
   ]
  },
  {
   "cell_type": "markdown",
   "id": "95b9d69f",
   "metadata": {},
   "source": [
    "3. What happens if an exception occurs inside a try block and there is no matching\n",
    "except block?"
   ]
  },
  {
   "cell_type": "markdown",
   "id": "37fead69",
   "metadata": {},
   "source": [
    "ANS- If an exception occurs inside a try block and there is no matching except block to handle that specific exception type, the program will terminate abruptly, and an unhandled exception error will be raised\n",
    "    "
   ]
  },
  {
   "cell_type": "markdown",
   "id": "ff6c3c1c",
   "metadata": {},
   "source": [
    "4. What is the difference between using a bare except block and specifying a specific\n",
    "exception type?"
   ]
  },
  {
   "cell_type": "markdown",
   "id": "7af69991",
   "metadata": {},
   "source": [
    "**ANS-** When you specify a specific exception type in an except block, that block will only catch and handle exceptions of that particular type and its subclasses. It allows you to handle different types of exceptions differently and write custom error-handling code for each type.<br>\n",
    "<br>\n",
    "When you use a bare except block (one without specifying a specific exception type), it catches and handles any exception that occurs within the try block"
   ]
  },
  {
   "cell_type": "markdown",
   "id": "f8e29cba",
   "metadata": {},
   "source": [
    "5. Can you have nested try-except blocks in Python? If yes, then give an example."
   ]
  },
  {
   "cell_type": "code",
   "execution_count": 132,
   "id": "710e1286",
   "metadata": {},
   "outputs": [
    {
     "name": "stdout",
     "output_type": "stream",
     "text": [
      "Enter a numerator: 74\n",
      "Enter a denominator: 34\n",
      "Result is: 2.176470588235294\n"
     ]
    }
   ],
   "source": [
    "try: # Outer try block\n",
    "    num1 = int(input(\"Enter a numerator: \"))\n",
    "    num2 = int(input(\"Enter a denominator: \"))\n",
    "\n",
    "    try:\n",
    "        # Inner try block\n",
    "        result = num1 / num2\n",
    "    except ZeroDivisionError:\n",
    "        print(\"Division by zero is not allowed\")\n",
    "except:\n",
    "    print(\"Invalid input (outer).\")\n",
    "else:\n",
    "    print(f\"Result is: {result}\")"
   ]
  },
  {
   "cell_type": "markdown",
   "id": "0d77ba86",
   "metadata": {},
   "source": [
    "6. Can we use multiple exception blocks, if yes then give an example."
   ]
  },
  {
   "cell_type": "code",
   "execution_count": 82,
   "id": "58b3db4b",
   "metadata": {},
   "outputs": [
    {
     "name": "stdout",
     "output_type": "stream",
     "text": [
      "A ValueError occurred. Please enter a valid integer.\n"
     ]
    }
   ],
   "source": [
    "try:\n",
    "    result = int(\"abc\")  # This will raise a ValueError\n",
    "    value = 10 / 0       # This will raise a ZeroDivisionError\n",
    "except ValueError:\n",
    "    # Handle ValueError\n",
    "    print(\"A ValueError occurred. Please enter a valid integer.\")\n",
    "except ZeroDivisionError:\n",
    "    # Handle ZeroDivisionError\n",
    "    print(\"Division by zero is not allowed.\")\n",
    "except Exception as e:\n",
    "    # Handle other exceptions (generic catch-all)\n",
    "    print(f\"An error occurred: {e}\")\n"
   ]
  },
  {
   "cell_type": "code",
   "execution_count": null,
   "id": "39b0ae4f",
   "metadata": {},
   "outputs": [],
   "source": []
  },
  {
   "cell_type": "markdown",
   "id": "f33c5024",
   "metadata": {},
   "source": [
    "7. Write the reason due to which following errors are raised:<br>\n",
    "a. EOFError<br>\n",
    "b. FloatingPointError<br>\n",
    "c. IndexError<br>\n",
    "d. MemoryError<br>\n",
    "e. OverflowError<br>\n",
    "f. TabError<br>\n",
    "g. ValueError<br>\n"
   ]
  },
  {
   "cell_type": "markdown",
   "id": "8c660c58",
   "metadata": {},
   "source": [
    "**ANS**\n",
    "\n",
    "a. EOFError (End of File Error):<br>\n",
    "\n",
    "This error occurs when one of the built-in functions input() or raw_input() hits an end-of-file condition (EOF) without reading any data.<br>\n",
    "\n",
    "b. FloatingPointError: This error occurs when a floating-point operation results in an undefined or unrepresentable value, such as division by zero or an extremely large or small number.<br>\n",
    "\n",
    "c. IndexError: This error occurs when we try to access an index that is out of range for a sequence (e.g., a list, tuple, or string).<br>\n",
    "\n",
    "d. MemoryError: This error is raised when an operation runs out of memory.<br>\n",
    "\n",
    "e. OverflowError:  This error is raised when the result of an arithmetic operation is too large to be expressed.<br>\n",
    "\n",
    "f. TabError: This error occurs when there is inconsistent use of tabs and spaces for indentation in Python code.<br>\n",
    "\n",
    "g. ValueError: This error is raised when a function receives an argument of the correct data type but an inappropriate value.\n",
    "\n",
    "\n",
    "\n"
   ]
  },
  {
   "cell_type": "markdown",
   "id": "aac8d55c",
   "metadata": {},
   "source": [
    "8. Write code for the following given scenario and add try-exception block to it.<br>\n",
    "a. Program to divide two numbers <br>\n",
    "b. Program to convert a string to an integer <br>\n",
    "c. Program to access an element in a list <br>\n",
    "d. Program to handle a specific exception <br>\n",
    "e. Program to handle any exception <br>"
   ]
  },
  {
   "cell_type": "code",
   "execution_count": 2,
   "id": "e0e6af9a",
   "metadata": {},
   "outputs": [
    {
     "name": "stdout",
     "output_type": "stream",
     "text": [
      "Enter the first number: 76\n",
      "Enter the second number: 0\n",
      "Result: Error: Cannot divide by zero\n"
     ]
    }
   ],
   "source": [
    "#a. Program to divide two numbers\n",
    "num1 = float(input(\"Enter the first number: \"))\n",
    "num2 = float(input(\"Enter the second number: \"))\n",
    "\n",
    "def divide_numbers(a1, b1):\n",
    "    try:\n",
    "        result = a1 / b1\n",
    "        return result\n",
    "    except ZeroDivisionError:\n",
    "        return \"Error: Cannot divide by zero\"\n",
    "\n",
    "result = divide_numbers(num1, num2)\n",
    "print(\"Result:\", result)\n"
   ]
  },
  {
   "cell_type": "code",
   "execution_count": 128,
   "id": "aa966c68",
   "metadata": {},
   "outputs": [
    {
     "name": "stdout",
     "output_type": "stream",
     "text": [
      "Enter a string: 34\n",
      "Result: 34\n"
     ]
    }
   ],
   "source": [
    "#b. Program to convert a string to an integer\n",
    "def convert_to_integer(s):\n",
    "    try:\n",
    "        num = int(s)\n",
    "        return num\n",
    "    except ValueError:\n",
    "        return \" Invalid input. Cannot convert to integer\"\n",
    "\n",
    "string_input = input(\"Enter a string: \")\n",
    "integer_result = convert_to_integer(string_input)\n",
    "print(\"Result:\", integer_result)\n"
   ]
  },
  {
   "cell_type": "code",
   "execution_count": 129,
   "id": "33c5b0cd",
   "metadata": {},
   "outputs": [
    {
     "name": "stdout",
     "output_type": "stream",
     "text": [
      "which index u want7\n",
      "the 7 th element in the list is  10\n"
     ]
    }
   ],
   "source": [
    "#c. Program to access an element in a list \n",
    "list1=[1,2,3,4,'bat','ball','cat',10,11]\n",
    "\n",
    "i=int(input('which index u want'))\n",
    "try:\n",
    "    element= list1[i]\n",
    "    print(f\"the {i} th element in the list is \", element)\n",
    "except IndexError:\n",
    "    print( \"give proper index\" )"
   ]
  },
  {
   "cell_type": "code",
   "execution_count": 53,
   "id": "a3882c9f",
   "metadata": {},
   "outputs": [
    {
     "name": "stdout",
     "output_type": "stream",
     "text": [
      "Enter a number: 6\n",
      "Result: 1.6666666666666667\n"
     ]
    }
   ],
   "source": [
    "#d. Program to handle a specific exception <br>\n",
    "def specific_exception():\n",
    "    try:\n",
    "        num = int(input(\"Enter a number: \"))\n",
    "        result = 10 / num\n",
    "        print(\"Result:\", result)\n",
    "    except ValueError:\n",
    "        print(\"Invalid input. Please enter a valid number.\")\n",
    "    except ZeroDivisionError:\n",
    "        print(\" Cannot divide by zero.\")\n",
    "    except SyntaxError:\n",
    "        print(\"Some mistake in typing\")\n",
    "        \n",
    "\n",
    "specific_exception()\n"
   ]
  },
  {
   "cell_type": "code",
   "execution_count": 131,
   "id": "7ee8cd40",
   "metadata": {},
   "outputs": [
    {
     "name": "stdout",
     "output_type": "stream",
     "text": [
      "enter something 747\n",
      "result after adding 5 is 752\n"
     ]
    }
   ],
   "source": [
    "#d. Program to handle a specific exception <br>\n",
    "inp= input(\"enter something \")\n",
    "def f(s):\n",
    "    try:\n",
    "        num= int(s)\n",
    "        result1= num+5\n",
    "        return result1\n",
    "    \n",
    "    except ValueError:\n",
    "        print(\"enter a integer\")\n",
    "    \n",
    "result1=f(inp)\n",
    "print(\"result after adding 5 is\", result1)\n",
    "    "
   ]
  },
  {
   "cell_type": "code",
   "execution_count": 64,
   "id": "1915ab85",
   "metadata": {},
   "outputs": [
    {
     "name": "stdout",
     "output_type": "stream",
     "text": [
      "Enter a number: ehuery4\n",
      "An error occurred\n"
     ]
    }
   ],
   "source": [
    "#e. Program to handle any exception \n",
    "def any_excep():\n",
    "    try:\n",
    "        value = int(input(\"Enter a number: \"))\n",
    "        result = 10 / value\n",
    "        print(\"Result:\", result)\n",
    "    except :\n",
    "        print(\"An error occurred\")\n",
    "\n",
    "any_excep()\n"
   ]
  },
  {
   "cell_type": "code",
   "execution_count": null,
   "id": "a92a5544",
   "metadata": {},
   "outputs": [],
   "source": []
  }
 ],
 "metadata": {
  "kernelspec": {
   "display_name": "Python 3 (ipykernel)",
   "language": "python",
   "name": "python3"
  },
  "language_info": {
   "codemirror_mode": {
    "name": "ipython",
    "version": 3
   },
   "file_extension": ".py",
   "mimetype": "text/x-python",
   "name": "python",
   "nbconvert_exporter": "python",
   "pygments_lexer": "ipython3",
   "version": "3.9.7"
  }
 },
 "nbformat": 4,
 "nbformat_minor": 5
}
