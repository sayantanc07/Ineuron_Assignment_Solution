{
 "cells": [
  {
   "cell_type": "markdown",
   "id": "fc6c6e0a",
   "metadata": {},
   "source": []
  },
  {
   "cell_type": "markdown",
   "id": "28068b69",
   "metadata": {},
   "source": [
    "1. What is a lambda function in Python, and how does it differ from a regular function?"
   ]
  },
  {
   "cell_type": "markdown",
   "id": "37817a22",
   "metadata": {},
   "source": [
    "<code>Lambda</code>  is an anonymous function (i.e., defined without a name) that can take any number of arguments but, unlike normal functions, evaluates and returns only one expression."
   ]
  },
  {
   "cell_type": "markdown",
   "id": "e73675c9",
   "metadata": {},
   "source": [
    "It is written as :<br> <code>lambda argument(s) : expression</code>"
   ]
  },
  {
   "cell_type": "markdown",
   "id": "8c05cb54",
   "metadata": {},
   "source": [
    "It is different from a regular function written by using **def()** such that - In python, def defined functions are commonly used because of their simplicity. The def defined functions do not return anything if not explicitly returned whereas the lambda function does return an object. The def functions must be declared in the namespace. The def functions can perform any python task including multiple conditions, nested conditions or loops of any level, printing, importing libraries, raising Exceptions, etc. "
   ]
  },
  {
   "cell_type": "markdown",
   "id": "ceaf84c2",
   "metadata": {},
   "source": [
    "2. Can a lambda function in Python have multiple arguments? If yes, how can you define and use\n",
    "them?"
   ]
  },
  {
   "cell_type": "markdown",
   "id": "a0969ff5",
   "metadata": {},
   "source": [
    "**Yes** lambda function in Python can take multiple arguments. We first define the two variables after the <code>lambda</code> keyword and then define the variables seperating them by <code>comma(,)</code>  and then the <code> :</code>  mark for seperating the expressions operation and variables.\n",
    "A lambda function with two arguments is defined in the next chunk."
   ]
  },
  {
   "cell_type": "code",
   "execution_count": 13,
   "id": "68922838",
   "metadata": {},
   "outputs": [
    {
     "name": "stdout",
     "output_type": "stream",
     "text": [
      "27\n"
     ]
    }
   ],
   "source": [
    "global_var = 10 # Defining a variable outside lambda function\n",
    "\n",
    "lambda_function = lambda x: x + global_var \n",
    "result = lambda_function(17)\n",
    "\n",
    "\n",
    "print(result) "
   ]
  },
  {
   "cell_type": "markdown",
   "id": "b6db0f84",
   "metadata": {},
   "source": [
    "3. How are lambda functions typically used in Python? Provide an example use case."
   ]
  },
  {
   "cell_type": "code",
   "execution_count": 14,
   "id": "727da2ee",
   "metadata": {},
   "outputs": [
    {
     "name": "stdout",
     "output_type": "stream",
     "text": [
      "15\n"
     ]
    }
   ],
   "source": [
    "x = lambda a : a + 10\n",
    "print(x(5))"
   ]
  },
  {
   "cell_type": "markdown",
   "id": "e9f88e73",
   "metadata": {},
   "source": [
    "4. What are the advantages and limitations of lambda functions compared to regular functions in\n",
    "Python?"
   ]
  },
  {
   "cell_type": "markdown",
   "id": "01c4e63e",
   "metadata": {},
   "source": [
    "**Conciseness:** Lambda functions are generally more concise than regular functions. They are defined in a single line of code, which can makes our code more readable, when there are simple operations involved.<br>\n",
    "**Readability:** It is suitable for defining small, one-off functions that are used in a specific context. They can make the code more readable by keeping the function definition close to its use.<br>\n",
    "**Functional Programming:** Lambda functions are often used in functional programming concepts like map, filter, and reduce, making code more expressive and functional. <br>"
   ]
  },
  {
   "cell_type": "markdown",
   "id": "f6ffd7a9",
   "metadata": {},
   "source": [
    "5. Are lambda functions in Python able to access variables defined outside of their own scope?\n",
    "Explain with an example."
   ]
  },
  {
   "cell_type": "markdown",
   "id": "18cc8618",
   "metadata": {},
   "source": [
    "**Limited Expressiveness:** Lambda functions are limited in their expressiveness. It is intended for simple operations and cannot contain statements or complex logic. <br>\n",
    "**Limited Documentation:** Since lambda functions lack a name, they don't have docstrings or meaningful names to describe their purpose, which can make the code less self-documenting."
   ]
  },
  {
   "cell_type": "markdown",
   "id": "687690c3",
   "metadata": {},
   "source": [
    "6. Write a lambda function to calculate the square of a given number."
   ]
  },
  {
   "cell_type": "code",
   "execution_count": 15,
   "id": "1b1d2026",
   "metadata": {},
   "outputs": [
    {
     "name": "stdout",
     "output_type": "stream",
     "text": [
      "print no7\n",
      "49\n"
     ]
    }
   ],
   "source": [
    "n=int(input(\"print no\"))\n",
    "x = lambda a : a**2 \n",
    "print(x(n))"
   ]
  },
  {
   "cell_type": "markdown",
   "id": "f736ea3c",
   "metadata": {},
   "source": [
    "7. Create a lambda function to find the maximum value in a list of integers."
   ]
  },
  {
   "cell_type": "code",
   "execution_count": 16,
   "id": "0de63d4a",
   "metadata": {},
   "outputs": [
    {
     "name": "stdout",
     "output_type": "stream",
     "text": [
      "109\n"
     ]
    }
   ],
   "source": [
    "#normal function\n",
    "\n",
    "list = [19, 7, 14,34,37,48,87,109,36,2,29,87,98,26,73,29]\n",
    "maximum = max(list)\n",
    "print(maximum)"
   ]
  },
  {
   "cell_type": "code",
   "execution_count": 17,
   "id": "cb0b74a8",
   "metadata": {},
   "outputs": [
    {
     "name": "stdout",
     "output_type": "stream",
     "text": [
      "109\n"
     ]
    }
   ],
   "source": [
    "#using lambda function\n",
    "\n",
    "from functools import reduce\n",
    "list = [19, 7, 14,34,37,48,87,109,36,2,29,87,98,26,73,29]\n",
    "maximum = reduce(lambda x, y: x if x >= y else y, list)\n",
    "print(maximum)"
   ]
  },
  {
   "cell_type": "markdown",
   "id": "e3478927",
   "metadata": {},
   "source": [
    "8. Implement a lambda function to filter out all the even numbers from a list of integers."
   ]
  },
  {
   "cell_type": "code",
   "execution_count": 1,
   "id": "d81a9b26",
   "metadata": {},
   "outputs": [
    {
     "name": "stdout",
     "output_type": "stream",
     "text": [
      "[2, 4, 6, 8, 10]\n"
     ]
    }
   ],
   "source": [
    "numbers = [1, 2, 3, 4, 5, 6, 7, 8, 9, 10]\n",
    "\n",
    "even_numbers = list(filter(lambda x: x % 2 == 0, numbers))\n",
    "\n",
    "print(even_numbers)\n"
   ]
  },
  {
   "cell_type": "markdown",
   "id": "fa3d70fd",
   "metadata": {},
   "source": [
    "9. Write a lambda function to sort a list of strings in ascending order based on the length of each\n",
    "string."
   ]
  },
  {
   "cell_type": "code",
   "execution_count": 2,
   "id": "f41a9b04",
   "metadata": {},
   "outputs": [
    {
     "name": "stdout",
     "output_type": "stream",
     "text": [
      "Sorted strings by length (ascending): ['Axar', 'Dhoni', 'Virat', 'Ganguly', 'Kuldeep', 'Tendulkar']\n"
     ]
    }
   ],
   "source": [
    "strings = [\"Dhoni\", \"Virat\", \"Ganguly\", \"Tendulkar\", \"Kuldeep\", \"Axar\"] \n",
    "sorted_strings = sorted(strings, key=lambda x: len(x))\n",
    "print(\"Sorted strings by length (ascending):\", sorted_strings) "
   ]
  },
  {
   "cell_type": "code",
   "execution_count": null,
   "id": "0c40d6fb",
   "metadata": {},
   "outputs": [],
   "source": [
    "\n"
   ]
  },
  {
   "cell_type": "markdown",
   "id": "60cc2492",
   "metadata": {},
   "source": [
    "10. Create a lambda function that takes two lists as input and returns a new list containing the\n",
    "common elements between the two lists."
   ]
  },
  {
   "cell_type": "code",
   "execution_count": 3,
   "id": "d14addaf",
   "metadata": {},
   "outputs": [
    {
     "name": "stdout",
     "output_type": "stream",
     "text": [
      "Common elements: [3, 4, 5]\n"
     ]
    }
   ],
   "source": [
    "list1 = [1, 2, 3, 4, 5] \n",
    "list2 = [3, 4, 5, 6, 7]\n",
    "\n",
    "\n",
    "common_elements = lambda list1, list2: list(set(list1) & set(list2))\n",
    "result = common_elements(list1, list2)\n",
    "print(\"Common elements:\", result)"
   ]
  },
  {
   "cell_type": "markdown",
   "id": "b797b3c5",
   "metadata": {},
   "source": [
    "11. Write a recursive function to calculate the factorial of a given positive integer."
   ]
  },
  {
   "cell_type": "code",
   "execution_count": 1,
   "id": "c29391e2",
   "metadata": {},
   "outputs": [
    {
     "name": "stdout",
     "output_type": "stream",
     "text": [
      "enter a number 7\n",
      "factorial of the number 7 is 5040\n"
     ]
    }
   ],
   "source": [
    "n=int(input(\"enter a number \"))\n",
    "\n",
    "\n",
    "def recursive_func(n):\n",
    "    if n==1:\n",
    "        return n\n",
    "    else:\n",
    "        return n*recursive_func(n-1)\n",
    "\n",
    "factorial=recursive_func(n)\n",
    "if n<0:\n",
    "    print(\"enter positive nukber\")\n",
    "elif n==0:\n",
    "    print(\"factorial is 1\")\n",
    "else:\n",
    "    print(f\"factorial of the number {n} is\", factorial)\n",
    "\n",
    "\n",
    "\n",
    "\n",
    "        \n"
   ]
  },
  {
   "cell_type": "markdown",
   "id": "c7717485",
   "metadata": {},
   "source": [
    "12. Implement a recursive function to compute the nth Fibonacci number."
   ]
  },
  {
   "cell_type": "code",
   "execution_count": 8,
   "id": "c99599bd",
   "metadata": {},
   "outputs": [
    {
     "name": "stdout",
     "output_type": "stream",
     "text": [
      "fiboncci series:\n",
      "0\n",
      "1\n",
      "1\n",
      "2\n",
      "3\n",
      "5\n",
      "8\n",
      "13\n",
      "21\n",
      "34\n"
     ]
    }
   ],
   "source": [
    "\n",
    "def fibonacci(num):\n",
    "    if num<=1:\n",
    "        return num\n",
    "    else:\n",
    "        return fibonacci(num-1) + fibonacci(num-2)\n",
    "\n",
    "terms= 10\n",
    "if terms<=0:\n",
    "    print(\"enter valid value\")\n",
    "else:\n",
    "    print(\"fiboncci series:\")\n",
    "for i in range(terms):\n",
    "    print(fibonacci(i))\n",
    "    "
   ]
  },
  {
   "cell_type": "markdown",
   "id": "c9113acf",
   "metadata": {},
   "source": [
    "13. Write a recursive function to determine whether a given string is a palindrome."
   ]
  },
  {
   "cell_type": "code",
   "execution_count": null,
   "id": "17778e7f",
   "metadata": {},
   "outputs": [],
   "source": [
    "x1=int(input(\"enter a no\"))\n",
    "x=x1\n",
    "rev_num=0\n",
    "\n",
    "while x>0:\n",
    "    y=x%10\n",
    "    rev_num=rev_num*10+y\n",
    "    x=x//10\n",
    "\n",
    "if (x1==rev_num) :\n",
    "    print(\"yes it is a palindrome number\")\n",
    "else:\n",
    "    print(\"no it is not a palindrome number\")\n"
   ]
  },
  {
   "cell_type": "markdown",
   "id": "7f513313",
   "metadata": {},
   "source": [
    "14. Implement a recursive function to find the greatest common divisor (GCD) of two positive integers."
   ]
  },
  {
   "cell_type": "code",
   "execution_count": 12,
   "id": "30ba6503",
   "metadata": {},
   "outputs": [
    {
     "name": "stdout",
     "output_type": "stream",
     "text": [
      "The GCD of 72 and 30 is 6\n"
     ]
    }
   ],
   "source": [
    "def gcd(a, b):\n",
    "    if b == 0:\n",
    "        return a\n",
    "    else:\n",
    "        return gcd(b, a % b)\n",
    "\n",
    "\n",
    "num1 = 72\n",
    "num2 = 30\n",
    "\n",
    "result = gcd(num1, num2)\n",
    "print(f\"The GCD of {num1} and {num2} is {result}\")"
   ]
  },
  {
   "cell_type": "code",
   "execution_count": null,
   "id": "104079ff",
   "metadata": {},
   "outputs": [],
   "source": []
  },
  {
   "cell_type": "code",
   "execution_count": null,
   "id": "19e9ca45",
   "metadata": {},
   "outputs": [],
   "source": []
  }
 ],
 "metadata": {
  "kernelspec": {
   "display_name": "Python 3 (ipykernel)",
   "language": "python",
   "name": "python3"
  },
  "language_info": {
   "codemirror_mode": {
    "name": "ipython",
    "version": 3
   },
   "file_extension": ".py",
   "mimetype": "text/x-python",
   "name": "python",
   "nbconvert_exporter": "python",
   "pygments_lexer": "ipython3",
   "version": "3.9.7"
  }
 },
 "nbformat": 4,
 "nbformat_minor": 5
}
