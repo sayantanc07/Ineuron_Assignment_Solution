{
 "cells": [
  {
   "cell_type": "markdown",
   "id": "71f37c02",
   "metadata": {},
   "source": [
    "1. What is the role of the 'else' block in a try-except statement? Provide an example\n",
    "scenario where it would be useful."
   ]
  },
  {
   "cell_type": "markdown",
   "id": "da369749",
   "metadata": {},
   "source": [
    "**ANS-** The <code>try</code> and <code> else </code> statement is used to handle errors within our code in Python <br>\n",
    "The try block is used to check some code for errors . The code inside the try block will execute when there is no error in the program. Whereas the code inside the except block will execute whenever the program encounters some error in the preceding try block."
   ]
  },
  {
   "cell_type": "code",
   "execution_count": 6,
   "id": "e70b3878",
   "metadata": {},
   "outputs": [
    {
     "name": "stdout",
     "output_type": "stream",
     "text": [
      "enter numerator\n",
      "75\n",
      "enter denominator\n",
      "0\n",
      "denominator cannot be zero\n"
     ]
    }
   ],
   "source": [
    "try:\n",
    "    numerator=int(input(\"enter numerator\\n\"))\n",
    "    denom= int(input(\"enter denominator\\n\"))\n",
    "    result= numerator/denom\n",
    "    print(\"answer is\", result)\n",
    "except ZeroDivisionError:\n",
    "    print(\"denominator cannot be zero\")\n",
    "    "
   ]
  },
  {
   "cell_type": "markdown",
   "id": "08a4e080",
   "metadata": {},
   "source": [
    "2. Can a try-except block be nested inside another try-except block? Explain with an\n",
    "example."
   ]
  },
  {
   "cell_type": "code",
   "execution_count": 12,
   "id": "522e1ced",
   "metadata": {},
   "outputs": [
    {
     "name": "stdout",
     "output_type": "stream",
     "text": [
      "enter numerator\n",
      "67\n",
      "enter denominator\n",
      "9)\n",
      "check value what youve entered\n"
     ]
    }
   ],
   "source": [
    "try:\n",
    "    try:\n",
    "        numerator=int(input(\"enter numerator\\n\"))\n",
    "        denominator= int(input(\"enter denominator\\n\"))\n",
    "        result= numerator/denominator\n",
    "        print(\"answer is\", result)\n",
    "    except ZeroDivisionError:\n",
    "        print(\"denominator cannot be zero\")\n",
    "except ValueError:\n",
    "    print(\"check value what youve entered\")"
   ]
  },
  {
   "cell_type": "markdown",
   "id": "7b2ce5c5",
   "metadata": {},
   "source": [
    "3. How can you create a custom exception class in Python? Provide an example that\n",
    "demonstrates its usage."
   ]
  },
  {
   "cell_type": "code",
   "execution_count": 13,
   "id": "49636593",
   "metadata": {},
   "outputs": [],
   "source": [
    "class WrongAge(Exception):\n",
    "    pass"
   ]
  },
  {
   "cell_type": "code",
   "execution_count": 19,
   "id": "6dd45551",
   "metadata": {},
   "outputs": [
    {
     "name": "stdout",
     "output_type": "stream",
     "text": [
      "enter your age\n",
      "11\n",
      "you are not eligible for voting. After 7 years you can vote\n"
     ]
    }
   ],
   "source": [
    "n=18\n",
    "try:\n",
    "    age= int(input(\"enter your age\\n\"))\n",
    "    if age<n:\n",
    "        raise WrongAge\n",
    "    else:\n",
    "        print(\"you are eligible for voting\")\n",
    "except WrongAge:\n",
    "    print(\"you are not eligible for voting. After\", n-age, \"years you can vote\")"
   ]
  },
  {
   "cell_type": "markdown",
   "id": "8692fc36",
   "metadata": {},
   "source": [
    "4. What are some common exceptions that are built-in to Python?"
   ]
  },
  {
   "cell_type": "markdown",
   "id": "3ad7d435",
   "metadata": {},
   "source": [
    "**ANS-** <br>SyntaxError: Raised when there is a syntax error in the code. <br>\n",
    "\n",
    "IndentationError: Raised when there is an incorrect indentation.<br>\n",
    "\n",
    "NameError: Raised when a local or global name is not found.<br>\n",
    "\n",
    "TypeError: Raised when an operation or function is applied to an object of an inappropriate type.<br>\n",
    "\n",
    "ValueError: Raised when an operation or function receives an argument of the correct type but an inappropriate value.<br>\n",
    "\n",
    "ZeroDivisionError: Raised when division or modulo by zero is attempted.<br>\n",
    "\n",
    "FileNotFoundError: Raised when an attempt to open a file or directory fails.<br>\n",
    "\n",
    "IOError: Raised when an input/output operation fails, such as when reading or writing a file.<br>\n",
    "\n",
    "IndexError: Raised when an index is out of range for a sequence (in list, tuple, string).<br>\n",
    "\n",
    "KeyError: Raised when a dictionary <br>\n",
    "\n",
    "ModuleNotFoundError: A subclass of ImportError, raised when a module is not found.<br>"
   ]
  },
  {
   "cell_type": "markdown",
   "id": "a1291da0",
   "metadata": {},
   "source": [
    "5. What is logging in Python, and why is it important in software development?"
   ]
  },
  {
   "cell_type": "markdown",
   "id": "87565f69",
   "metadata": {},
   "source": [
    "**ANS-** Logging is important for software developing, debugging, and running. If we don’t have any logging record and our program crashes, there are very few chances that we will be able to detect the cause of the problem."
   ]
  },
  {
   "cell_type": "markdown",
   "id": "667c4f76",
   "metadata": {},
   "source": [
    "6. Explain the purpose of log levels in Python logging and provide examples of when\n",
    "each log level would be appropriate."
   ]
  },
  {
   "cell_type": "markdown",
   "id": "961d5beb",
   "metadata": {},
   "source": [
    "logging.debug('This is a debug message') <br>\n",
    "logging.info('This is an info message') <br>\n",
    "logging.warning('This is a warning message') <br>\n",
    "logging.error('This is an error message')<br>\n",
    "logging.critical('This is a critical message')<br>"
   ]
  },
  {
   "cell_type": "code",
   "execution_count": 20,
   "id": "4ad13217",
   "metadata": {},
   "outputs": [
    {
     "name": "stderr",
     "output_type": "stream",
     "text": [
      "DEBUG:root:Variables are 1 and 2\n"
     ]
    },
    {
     "data": {
      "text/plain": [
       "3"
      ]
     },
     "execution_count": 20,
     "metadata": {},
     "output_type": "execute_result"
    }
   ],
   "source": [
    "import logging\n",
    "\n",
    "logging.basicConfig(level=logging.DEBUG)\n",
    "\n",
    "def add(x, y):\n",
    "    logging.debug('Variables are %s and %s', x, y)\n",
    "    return x + y\n",
    "\n",
    "add(1, 2)"
   ]
  },
  {
   "cell_type": "code",
   "execution_count": 24,
   "id": "c8104cb9",
   "metadata": {},
   "outputs": [
    {
     "name": "stderr",
     "output_type": "stream",
     "text": [
      "INFO:root:name and surname about the user are Lionel  and Messi\n"
     ]
    }
   ],
   "source": [
    "import logging\n",
    "logging.basicConfig(level=logging.INFO)\n",
    "\n",
    "def user(name, surname):\n",
    "    logging.info('name and surname about the user are %s  and %s', name, surname)\n",
    "    \n",
    "user(\"Lionel\", \"Messi\")"
   ]
  },
  {
   "cell_type": "code",
   "execution_count": 9,
   "id": "468739bf",
   "metadata": {},
   "outputs": [
    {
     "name": "stderr",
     "output_type": "stream",
     "text": [
      "WARNING:root:insufficient balance\n"
     ]
    }
   ],
   "source": [
    "import logging\n",
    "logging.basicConfig(level=logging.WARNING)\n",
    "\n",
    "req_amount=25000\n",
    "def amount(x):\n",
    "    if x>req_amount:\n",
    "        print(\"you can buy this product\")\n",
    "    else:\n",
    "        need= req_amount-x\n",
    "        logging.warning(\"insufficient balance\")\n",
    "        \n",
    "amount(7000)\n",
    "    "
   ]
  },
  {
   "cell_type": "code",
   "execution_count": 10,
   "id": "74968a45",
   "metadata": {},
   "outputs": [
    {
     "name": "stderr",
     "output_type": "stream",
     "text": [
      "CRITICAL:root:failed to boot: u need to handle the issue\n"
     ]
    }
   ],
   "source": [
    "import logging\n",
    "logging.basicConfig(level=logging.CRITICAL)\n",
    "\n",
    "def checksystem(sys):\n",
    "  if sys!= \"OK\":\n",
    "    logging.critical(\"failed to boot: %s\", sys)\n",
    "\n",
    "checksystem(\"u need to handle the issue\")"
   ]
  },
  {
   "cell_type": "code",
   "execution_count": 17,
   "id": "a6916229",
   "metadata": {},
   "outputs": [
    {
     "name": "stdout",
     "output_type": "stream",
     "text": [
      "enter numerator45\n",
      "enter denominator0\n"
     ]
    },
    {
     "name": "stderr",
     "output_type": "stream",
     "text": [
      "ERROR:root:denominator cannot be zero\n"
     ]
    }
   ],
   "source": [
    "import logging\n",
    "logging.basicConfig(level=logging.error)\n",
    "\n",
    "def zero():\n",
    "    num=int(input(\"enter numerator\"))\n",
    "    denom=int(input(\"enter denominator\"))\n",
    "\n",
    "    if denom!=0:\n",
    "        result=num/denom\n",
    "        print(\"answer is\", result)\n",
    "    else:\n",
    "        logging.error(\"denominator cannot be zero\")\n",
    "        \n",
    "\n",
    "zero()\n",
    "    \n",
    "    \n",
    "    "
   ]
  },
  {
   "cell_type": "markdown",
   "id": "5287caa4",
   "metadata": {},
   "source": [
    "7. What are log formatters in Python logging, and how can you customise the log\n",
    "message format using formatters?"
   ]
  },
  {
   "cell_type": "code",
   "execution_count": 41,
   "id": "01a7c46d",
   "metadata": {},
   "outputs": [],
   "source": [
    "import logging\n",
    "\n",
    "logging.basicConfig(filename='sample.log', level=logging.DEBUG, format='%(asctime)s:%(name)s:%(message)s')\n",
    "\n",
    "def add(x1,y1):\n",
    "    return x1+y1\n",
    "\n",
    "num1=12\n",
    "num2=14\n",
    "\n",
    "add_result = add(num1,num2)\n",
    "logging.debug('Add {} + {} = {}'.format(num1, num2, add_result))\n",
    "logging.info(\"this is an info message\")\n"
   ]
  },
  {
   "cell_type": "markdown",
   "id": "6fcde4e9",
   "metadata": {},
   "source": [
    "8. How can you set up logging to capture log messages from multiple modules or\n",
    "classes in a Python application?"
   ]
  },
  {
   "cell_type": "code",
   "execution_count": 18,
   "id": "4a20fa2e",
   "metadata": {},
   "outputs": [],
   "source": [
    "\n",
    "logging.basicConfig(level=logging.DEBUG)\n",
    "\n",
    "\n",
    "file_handler = logging.FileHandler('my_app.log')\n",
    "file_handler.setLevel(logging.DEBUG)\n",
    "\n",
    "\n",
    "formatter = logging.Formatter('%(asctime)s - %(name)s - %(levelname)s - %(message)s')\n",
    "file_handler.setFormatter(formatter)\n",
    "\n",
    "\n",
    "logging.getLogger().addHandler(file_handler)\n"
   ]
  },
  {
   "cell_type": "markdown",
   "id": "08180bdd",
   "metadata": {},
   "source": [
    "9. What is the difference between the logging and print statements in Python? When\n",
    "should you use logging over print statements in a real-world application?"
   ]
  },
  {
   "cell_type": "markdown",
   "id": "df7ffef4",
   "metadata": {},
   "source": [
    "**ANS-** <br> Print is used Mainly for debugging but logging is used for Production Environment<br>\n",
    "Print does not have any levels, it simply prints whatever is passed to it.Logging provides different log levels such as Debug, Info, Error, Warning, and Critical.<br>\n",
    "Moreover we can differentiate ourlogging based on severity which we cannot in print.<br>\n",
    "\n",
    "When we want to maintain a clean and organized codebase in production while still having the ability to enable more detailed debugging when necessary, we use logging\n",
    "\n",
    "\n",
    "\n",
    "\n",
    "\n"
   ]
  },
  {
   "cell_type": "markdown",
   "id": "402a7ba9",
   "metadata": {},
   "source": [
    "10. Write a Python program that logs a message to a file named \"app.log\" with the\n",
    "following requirements:\n",
    "● The log message should be \"Hello, World!\"\n",
    "● The log level should be set to \"INFO.\"\n",
    "● The log file should append new log entries without overwriting previous ones."
   ]
  },
  {
   "cell_type": "code",
   "execution_count": 27,
   "id": "0da3af22",
   "metadata": {},
   "outputs": [],
   "source": [
    "import logging\n",
    "\n",
    "# Configuring the logging settings\n",
    "logging.basicConfig(filename='app.log', level=logging.INFO, format='%(asctime)s - %(levelname)s: %(message)s', filemode='a')\n",
    "\n",
    "# Log the message\n",
    "logging.info('Hello, World!')\n"
   ]
  },
  {
   "cell_type": "code",
   "execution_count": null,
   "id": "56730efe",
   "metadata": {},
   "outputs": [],
   "source": []
  },
  {
   "cell_type": "code",
   "execution_count": null,
   "id": "31be7da6",
   "metadata": {},
   "outputs": [],
   "source": []
  },
  {
   "cell_type": "code",
   "execution_count": null,
   "id": "3cbc1cce",
   "metadata": {},
   "outputs": [],
   "source": []
  }
 ],
 "metadata": {
  "kernelspec": {
   "display_name": "Python 3 (ipykernel)",
   "language": "python",
   "name": "python3"
  },
  "language_info": {
   "codemirror_mode": {
    "name": "ipython",
    "version": 3
   },
   "file_extension": ".py",
   "mimetype": "text/x-python",
   "name": "python",
   "nbconvert_exporter": "python",
   "pygments_lexer": "ipython3",
   "version": "3.9.7"
  }
 },
 "nbformat": 4,
 "nbformat_minor": 5
}
