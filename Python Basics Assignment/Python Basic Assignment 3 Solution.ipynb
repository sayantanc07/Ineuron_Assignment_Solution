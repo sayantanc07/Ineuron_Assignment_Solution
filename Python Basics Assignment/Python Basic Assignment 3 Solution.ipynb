{
 "cells": [
  {
   "cell_type": "markdown",
   "id": "f0e87f28",
   "metadata": {},
   "source": [
    "**[Assignment 3 Question Link](https://drive.google.com/file/d/1vU3MvFrIILi8Ma57Ft0MzF_PzYxoIH5Y/view)**"
   ]
  },
  {
   "cell_type": "markdown",
   "id": "23e15030",
   "metadata": {},
   "source": [
    "1. Why are functions advantageous to have in your programs?"
   ]
  },
  {
   "cell_type": "markdown",
   "id": "d96f62b4",
   "metadata": {},
   "source": [
    "**ANS:-** The idea to use functions in programs is to put some commonly or repeatedly done tasks together and make a function so that instead of writing the same code again and again for different inputs, we can call the function and based on the inputs , obtain outputs. It makes the program easier to read "
   ]
  },
  {
   "cell_type": "markdown",
   "id": "738d4bc2",
   "metadata": {},
   "source": [
    "2. When does the code in a function run: when it's specified or when it's called?"
   ]
  },
  {
   "cell_type": "markdown",
   "id": "a1830861",
   "metadata": {},
   "source": [
    "**ANS:-** The code in the function run, when it is called ."
   ]
  },
  {
   "cell_type": "markdown",
   "id": "16e5a175",
   "metadata": {},
   "source": [
    "3. What statement creates a function?"
   ]
  },
  {
   "cell_type": "markdown",
   "id": "31da2345",
   "metadata": {},
   "source": [
    "**ANS:-** The <code> def</code> statement creates a function<br>\n",
    "\n",
    "For eg:- <br> \n",
    "<code> def my_func(): <code/>"
   ]
  },
  {
   "cell_type": "markdown",
   "id": "48269cd6",
   "metadata": {},
   "source": [
    "4. What is the difference between a function and a function call?"
   ]
  },
  {
   "cell_type": "markdown",
   "id": "281674a8",
   "metadata": {},
   "source": [
    "**ANS:-** A function is a block of code that performs a specific task. It consists a set of instructions that can be executed when the function is called. Functions take input parameters and return a value as a result of their execution. <br>\n",
    "\n",
    "A function call is the code used to pass control to a function.After we pass a input into the called function , we get a output.\n"
   ]
  },
  {
   "cell_type": "code",
   "execution_count": 2,
   "id": "3e530b5d",
   "metadata": {},
   "outputs": [
    {
     "name": "stdout",
     "output_type": "stream",
     "text": [
      "the sum is  14\n"
     ]
    }
   ],
   "source": [
    "def sum_func(x,y):   #function\n",
    "    print(\"the sum is \", x+y) \n",
    "\n",
    "sum_func(6,8)  # function call"
   ]
  },
  {
   "cell_type": "markdown",
   "id": "deb82e5b",
   "metadata": {},
   "source": [
    "5. How many global scopes are there in a Python program? How many local scopes?"
   ]
  },
  {
   "cell_type": "markdown",
   "id": "434bc6c8",
   "metadata": {},
   "source": [
    "**ANS:-** There's only one global Python scope per program execution. This scope remains in existence until the program terminates , and a local scope is created whenever a function is called."
   ]
  },
  {
   "cell_type": "markdown",
   "id": "ce866cbe",
   "metadata": {},
   "source": [
    "6. What happens to variables in a local scope when the function call returns?"
   ]
  },
  {
   "cell_type": "markdown",
   "id": "7def5321",
   "metadata": {},
   "source": [
    "**ANS:-** When a function call returns, the local scope created for that function is destroyed. This implies that the variables defined within the function's local scope will be no longer accessible or valid once the function has finished executing."
   ]
  },
  {
   "cell_type": "markdown",
   "id": "6f7629a8",
   "metadata": {},
   "source": [
    "7. What is the concept of a return value? Is it possible to have a return value in an expression?"
   ]
  },
  {
   "cell_type": "markdown",
   "id": "d0aa52d5",
   "metadata": {},
   "source": [
    "**ANS:-** The \"return value\" refers to the value that a function can provide back as an output after it is being called when the function finishes executing. In Python, the <code> return </code> statement is used to specify a return value within a function.\n",
    "<br>\n",
    "\n",
    "Yes, it is possible to have a return value in an expression"
   ]
  },
  {
   "cell_type": "code",
   "execution_count": 4,
   "id": "b9fd6371",
   "metadata": {},
   "outputs": [
    {
     "name": "stdout",
     "output_type": "stream",
     "text": [
      "1225\n"
     ]
    }
   ],
   "source": [
    "def mult(a, b):\n",
    "    return a*b\n",
    "\n",
    "result = mult(5, 7)  # Calling  function and getting return value\n",
    "tot = result ** 2  #  expression\n",
    "\n",
    "print(tot)  \n"
   ]
  },
  {
   "cell_type": "markdown",
   "id": "4d4c34a4",
   "metadata": {},
   "source": [
    "8. If a function does not have a return statement, what is the return value of a call to that function?"
   ]
  },
  {
   "cell_type": "markdown",
   "id": "b178b530",
   "metadata": {},
   "source": [
    "**ANS:-** If a function does not have a return statement,it will return None\n"
   ]
  },
  {
   "cell_type": "code",
   "execution_count": null,
   "id": "06bd32e0",
   "metadata": {},
   "outputs": [],
   "source": [
    "def no_return():\n",
    "    result = no_return() \n",
    "print(result)  # This will print \"None\""
   ]
  },
  {
   "cell_type": "markdown",
   "id": "1f9ca995",
   "metadata": {},
   "source": [
    "9. How do you make a function variable refer to the global variable?"
   ]
  },
  {
   "cell_type": "markdown",
   "id": "80199fd7",
   "metadata": {},
   "source": [
    "**ANS:-** To make function variable as a global variable we use the global keyword to declare which variables are global."
   ]
  },
  {
   "cell_type": "code",
   "execution_count": 10,
   "id": "02807c9f",
   "metadata": {},
   "outputs": [
    {
     "name": "stdout",
     "output_type": "stream",
     "text": [
      "Python is best\n"
     ]
    }
   ],
   "source": [
    "def myfunc():\n",
    "  global x\n",
    "  x = \"best\"\n",
    "\n",
    "myfunc()\n",
    "\n",
    "print(\"Python is \" + x)"
   ]
  },
  {
   "cell_type": "markdown",
   "id": "4c7d6347",
   "metadata": {},
   "source": [
    "10. What is the data type of None?"
   ]
  },
  {
   "cell_type": "markdown",
   "id": "a195ddc4",
   "metadata": {},
   "source": [
    "**ANS:-** <code>Nonetype</code>"
   ]
  },
  {
   "cell_type": "code",
   "execution_count": 11,
   "id": "bf6835ef",
   "metadata": {},
   "outputs": [
    {
     "data": {
      "text/plain": [
       "NoneType"
      ]
     },
     "execution_count": 11,
     "metadata": {},
     "output_type": "execute_result"
    }
   ],
   "source": [
    "type(None)"
   ]
  },
  {
   "cell_type": "markdown",
   "id": "5f1859a9",
   "metadata": {},
   "source": [
    "11. What does the sentence import areallyourpetsnamederic do?"
   ]
  },
  {
   "cell_type": "markdown",
   "id": "a040d549",
   "metadata": {},
   "source": [
    "**ANS:-** This is not a module in Python. So it will result an error"
   ]
  },
  {
   "cell_type": "markdown",
   "id": "4fac16b3",
   "metadata": {},
   "source": [
    "12. If you had a bacon() feature in a spam module, what would you call it after importing spam?"
   ]
  },
  {
   "cell_type": "markdown",
   "id": "7ac370d1",
   "metadata": {},
   "source": [
    "**ANS:-**  If you had a bacon() feature in a spam module, we have to call it by : <code>spam.bacon</code>"
   ]
  },
  {
   "cell_type": "markdown",
   "id": "8be9da9d",
   "metadata": {},
   "source": [
    "<code> import spam <br> spam.bacon() <code>"
   ]
  },
  {
   "cell_type": "markdown",
   "id": "b3328935",
   "metadata": {},
   "source": [
    "13. What can you do to save a programme from crashing if it encounters an error?"
   ]
  },
  {
   "cell_type": "markdown",
   "id": "ae473012",
   "metadata": {},
   "source": [
    "**ANS**  We can use Try-Except Blocks to save program from crashing"
   ]
  },
  {
   "cell_type": "code",
   "execution_count": 16,
   "id": "25e25c76",
   "metadata": {},
   "outputs": [
    {
     "name": "stdout",
     "output_type": "stream",
     "text": [
      "define the variable first\n"
     ]
    }
   ],
   "source": [
    "try:\n",
    "    print(a)\n",
    "except NameError:\n",
    "    print(\"define the variable first\")\n",
    "    "
   ]
  },
  {
   "cell_type": "markdown",
   "id": "7c169dd8",
   "metadata": {},
   "source": [
    "14. What is the purpose of the try clause? What is the purpose of the except clause?"
   ]
  },
  {
   "cell_type": "markdown",
   "id": "55973f41",
   "metadata": {},
   "source": [
    "**ANS:** The <code>try</code> block lets us test a block of code for errors.\n",
    "\n",
    "The <code>except</code> block lets us handle the error."
   ]
  },
  {
   "cell_type": "code",
   "execution_count": null,
   "id": "d51fe61e",
   "metadata": {},
   "outputs": [],
   "source": []
  }
 ],
 "metadata": {
  "kernelspec": {
   "display_name": "Python 3 (ipykernel)",
   "language": "python",
   "name": "python3"
  },
  "language_info": {
   "codemirror_mode": {
    "name": "ipython",
    "version": 3
   },
   "file_extension": ".py",
   "mimetype": "text/x-python",
   "name": "python",
   "nbconvert_exporter": "python",
   "pygments_lexer": "ipython3",
   "version": "3.9.7"
  }
 },
 "nbformat": 4,
 "nbformat_minor": 5
}
