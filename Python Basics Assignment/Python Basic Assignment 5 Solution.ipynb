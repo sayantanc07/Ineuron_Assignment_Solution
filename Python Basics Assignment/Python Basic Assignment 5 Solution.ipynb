{
 "cells": [
  {
   "cell_type": "markdown",
   "id": "af543eab",
   "metadata": {},
   "source": [
    "[assignment 5 question link](https://drive.google.com/file/d/1fM3fWLFqQAgiOa3YY41ZRlEFzqA3vorL/view)"
   ]
  },
  {
   "cell_type": "markdown",
   "id": "dcd8f1f4",
   "metadata": {},
   "source": [
    "1. What does an empty dictionary&#39;s code look like?"
   ]
  },
  {
   "cell_type": "markdown",
   "id": "139eb811",
   "metadata": {},
   "source": [
    "**Ans:-**  An empty dictionary is an empty pair of curly braces {}"
   ]
  },
  {
   "cell_type": "code",
   "execution_count": 2,
   "id": "11a58876",
   "metadata": {},
   "outputs": [
    {
     "name": "stdout",
     "output_type": "stream",
     "text": [
      "{}\n"
     ]
    },
    {
     "data": {
      "text/plain": [
       "dict"
      ]
     },
     "execution_count": 2,
     "metadata": {},
     "output_type": "execute_result"
    }
   ],
   "source": [
    "dict1={}\n",
    "print(dict1)\n",
    "type(dict1)"
   ]
  },
  {
   "cell_type": "markdown",
   "id": "470177a0",
   "metadata": {},
   "source": [
    "2. What is the value of a dictionary value with the key &#39;foo&#39; and the value 42?"
   ]
  },
  {
   "cell_type": "code",
   "execution_count": 3,
   "id": "8f697fff",
   "metadata": {},
   "outputs": [],
   "source": [
    "dict1={'foo': 42}"
   ]
  },
  {
   "cell_type": "code",
   "execution_count": 4,
   "id": "f4b825a5",
   "metadata": {},
   "outputs": [
    {
     "data": {
      "text/plain": [
       "42"
      ]
     },
     "execution_count": 4,
     "metadata": {},
     "output_type": "execute_result"
    }
   ],
   "source": [
    "dict1['foo']\n"
   ]
  },
  {
   "cell_type": "markdown",
   "id": "f9f6e7e7",
   "metadata": {},
   "source": [
    "3. What is the most significant distinction between a dictionary and a list?"
   ]
  },
  {
   "cell_type": "markdown",
   "id": "a27cbfc0",
   "metadata": {},
   "source": [
    "**Ans:-** The most significant difeerence between list and tuples is dictionary cannot have duplicate values but list can have<br>\n",
    "also dictionaries are unordered and lists are ordered"
   ]
  },
  {
   "cell_type": "markdown",
   "id": "59accf75",
   "metadata": {},
   "source": [
    "4. What happens if you try to access spam[&#39;foo&#39;] if spam is {&#39;bar&#39;: 100}?"
   ]
  },
  {
   "cell_type": "code",
   "execution_count": 5,
   "id": "a615ab01",
   "metadata": {},
   "outputs": [],
   "source": [
    "spam= {'bar': 100}"
   ]
  },
  {
   "cell_type": "code",
   "execution_count": 6,
   "id": "11f33a5f",
   "metadata": {},
   "outputs": [
    {
     "ename": "KeyError",
     "evalue": "'foo'",
     "output_type": "error",
     "traceback": [
      "\u001b[1;31m---------------------------------------------------------------------------\u001b[0m",
      "\u001b[1;31mKeyError\u001b[0m                                  Traceback (most recent call last)",
      "\u001b[1;32m~\\AppData\\Local\\Temp/ipykernel_7268/707863824.py\u001b[0m in \u001b[0;36m<module>\u001b[1;34m\u001b[0m\n\u001b[1;32m----> 1\u001b[1;33m \u001b[0mspam\u001b[0m\u001b[1;33m[\u001b[0m\u001b[1;34m'foo'\u001b[0m\u001b[1;33m]\u001b[0m\u001b[1;33m\u001b[0m\u001b[1;33m\u001b[0m\u001b[0m\n\u001b[0m\u001b[0;32m      2\u001b[0m \u001b[1;33m\u001b[0m\u001b[0m\n\u001b[0;32m      3\u001b[0m \u001b[1;31m# it gives an error as the key 'foo' is not defined in spam dictionary\u001b[0m\u001b[1;33m\u001b[0m\u001b[1;33m\u001b[0m\u001b[0m\n",
      "\u001b[1;31mKeyError\u001b[0m: 'foo'"
     ]
    }
   ],
   "source": [
    "spam['foo']   \n",
    "\n",
    "# it gives an error as the key 'foo' is not defined in spam dictionary"
   ]
  },
  {
   "cell_type": "markdown",
   "id": "0d52dba1",
   "metadata": {},
   "source": [
    "5. If a dictionary is stored in spam, what is the difference between the expressions &#39;cat&#39; in spam and\n",
    "&#39;cat&#39; in spam.keys()?"
   ]
  },
  {
   "cell_type": "code",
   "execution_count": 7,
   "id": "1568f9a7",
   "metadata": {},
   "outputs": [
    {
     "data": {
      "text/plain": [
       "True"
      ]
     },
     "execution_count": 7,
     "metadata": {},
     "output_type": "execute_result"
    }
   ],
   "source": [
    "spam ={'cat':10}\n",
    "'cat' in spam"
   ]
  },
  {
   "cell_type": "code",
   "execution_count": 8,
   "id": "89f7635f",
   "metadata": {},
   "outputs": [
    {
     "data": {
      "text/plain": [
       "True"
      ]
     },
     "execution_count": 8,
     "metadata": {},
     "output_type": "execute_result"
    }
   ],
   "source": [
    "'cat' in spam.keys()"
   ]
  },
  {
   "cell_type": "markdown",
   "id": "9d473739",
   "metadata": {},
   "source": [
    "6. If a dictionary is stored in spam, what is the difference between the expressions &#39;cat&#39; in spam and\n",
    "&#39;cat&#39; in spam.values()?"
   ]
  },
  {
   "cell_type": "code",
   "execution_count": 9,
   "id": "47286407",
   "metadata": {},
   "outputs": [
    {
     "data": {
      "text/plain": [
       "True"
      ]
     },
     "execution_count": 9,
     "metadata": {},
     "output_type": "execute_result"
    }
   ],
   "source": [
    "spam ={'cat':10}\n",
    "'cat' in spam\n",
    "\n",
    "#'cat' in spam checks whether there is a 'cat' key in the dictionary"
   ]
  },
  {
   "cell_type": "code",
   "execution_count": 10,
   "id": "8ef1d227",
   "metadata": {},
   "outputs": [
    {
     "data": {
      "text/plain": [
       "False"
      ]
     },
     "execution_count": 10,
     "metadata": {},
     "output_type": "execute_result"
    }
   ],
   "source": [
    "'cat' in spam.values()\n",
    "\n",
    "#'cat' in spam.values() checks whether there is a value 'cat' for one of the keys in spam."
   ]
  },
  {
   "cell_type": "markdown",
   "id": "d6932edb",
   "metadata": {},
   "source": [
    "7. What is a shortcut for the following code?\n",
    "if &#39;color&#39; not in spam:\n",
    "spam[&#39;color&#39;] = &#39;black&#39;"
   ]
  },
  {
   "cell_type": "code",
   "execution_count": 11,
   "id": "595a4d0b",
   "metadata": {},
   "outputs": [],
   "source": [
    "#if 'color' not in spam:\n",
    "    #spam['color'] = 'black'"
   ]
  },
  {
   "cell_type": "markdown",
   "id": "938b54ff",
   "metadata": {},
   "source": [
    "We use the command **dict.setdefault(key,default= “None”)**\tit set the key to the default value if the key is not specified in the dictionary"
   ]
  },
  {
   "cell_type": "code",
   "execution_count": 12,
   "id": "1b7e49b8",
   "metadata": {},
   "outputs": [
    {
     "data": {
      "text/plain": [
       "'Black'"
      ]
     },
     "execution_count": 12,
     "metadata": {},
     "output_type": "execute_result"
    }
   ],
   "source": [
    "spam.setdefault('color', 'Black')"
   ]
  },
  {
   "cell_type": "code",
   "execution_count": 13,
   "id": "8279231d",
   "metadata": {},
   "outputs": [
    {
     "data": {
      "text/plain": [
       "{'cat': 10, 'color': 'Black'}"
      ]
     },
     "execution_count": 13,
     "metadata": {},
     "output_type": "execute_result"
    }
   ],
   "source": [
    "spam"
   ]
  },
  {
   "cell_type": "markdown",
   "id": "04ed6473",
   "metadata": {},
   "source": [
    "8. How do you &quot;pretty print&quot; dictionary values using which module and function?"
   ]
  },
  {
   "cell_type": "code",
   "execution_count": 14,
   "id": "176724fd",
   "metadata": {},
   "outputs": [
    {
     "name": "stdout",
     "output_type": "stream",
     "text": [
      "{'age': 31,\n",
      " 'books': ['Harry Potter', 'Lord of the Rings'],\n",
      " 'gender': 'male',\n",
      " 'name': 'Nik'}\n"
     ]
    }
   ],
   "source": [
    "import pprint\n",
    "\n",
    "sample_dict = {'name': 'Nik', 'age': 31, 'gender': 'male', 'books': ['Harry Potter', 'Lord of the Rings']}\n",
    "pretty = pprint.pprint(sample_dict)"
   ]
  },
  {
   "cell_type": "code",
   "execution_count": null,
   "id": "0799e9cc",
   "metadata": {},
   "outputs": [],
   "source": []
  }
 ],
 "metadata": {
  "kernelspec": {
   "display_name": "Python 3 (ipykernel)",
   "language": "python",
   "name": "python3"
  },
  "language_info": {
   "codemirror_mode": {
    "name": "ipython",
    "version": 3
   },
   "file_extension": ".py",
   "mimetype": "text/x-python",
   "name": "python",
   "nbconvert_exporter": "python",
   "pygments_lexer": "ipython3",
   "version": "3.9.7"
  }
 },
 "nbformat": 4,
 "nbformat_minor": 5
}
