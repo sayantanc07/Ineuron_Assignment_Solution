{
 "cells": [
  {
   "cell_type": "markdown",
   "id": "uNl5hum6Sc8i",
   "metadata": {
    "id": "uNl5hum6Sc8i"
   },
   "source": [
    "**[Assignment Question Link](https://docs.google.com/document/d/1RjQBjq90BeqNuon_JUlrih7Tnda732cs/edit)**"
   ]
  },
  {
   "cell_type": "markdown",
   "id": "090952ec",
   "metadata": {
    "id": "090952ec"
   },
   "source": [
    "Q.1. In the below elements which of them are values or an expression? eg:- values can be\n",
    "integer or string and expressions will be mathematical operators.\n",
    "\n",
    "*\n",
    "'hello'\n",
    "-87.8\n",
    "-\n",
    "/\n",
    "+\n",
    "6"
   ]
  },
  {
   "cell_type": "markdown",
   "id": "2eed3207",
   "metadata": {
    "id": "2eed3207"
   },
   "source": [
    "**Answer**:<br>\n",
    "\n",
    "'hello' is a string value <br>\n",
    "-87.8   is a number value (float) <br>\n",
    "  6     is an number value (int/integer) <br>\n",
    "\n",
    "\n",
    "Mathematical Operators<br>\n",
    "\n",
    "' * ' (multiplication) <br>\n",
    "' - ' (substraction)<br>\n",
    "' + ' (addition)<br>\n",
    "' /  '(division)<br>\n"
   ]
  },
  {
   "cell_type": "markdown",
   "id": "c95ac5dc",
   "metadata": {
    "id": "c95ac5dc"
   },
   "source": [
    "**Q.2. What is the difference between string and variable?**"
   ]
  },
  {
   "cell_type": "code",
   "execution_count": 1,
   "id": "cc3e9609",
   "metadata": {
    "colab": {
     "base_uri": "https://localhost:8080/"
    },
    "id": "cc3e9609",
    "outputId": "2795d15a-08fe-40b3-ec52-716394b69ca9"
   },
   "outputs": [
    {
     "name": "stdout",
     "output_type": "stream",
     "text": [
      "Hello Ineuron, this is an example of string\n",
      "ineuron is number 1\n"
     ]
    }
   ],
   "source": [
    "# Solution-\n",
    "'''\n",
    "String- A string is a data structure in Python that represents a sequence of characters. It is an immutable data type,\n",
    "it means after creating a string we can not change it. Strings are mainly enclosed in single quote ('') or double quotes (\"\").\n",
    "'''\n",
    "#Example below:\n",
    "\n",
    "print(\"Hello Ineuron, this is an example of string\")\n",
    "\n",
    "'''Variable - Variable is used as a storage location in a program's memory that can hold different values.\n",
    "              Variables can hold different types of data like strings, numbers, and more.\n",
    "              '''\n",
    "\n",
    "a=\"ineuron\"\n",
    "b=1\n",
    "print(a, \"is number\", b)\n",
    "\n",
    "#Here a and b are variables that contains the string value 'ineuron' and a numeric value 1"
   ]
  },
  {
   "cell_type": "markdown",
   "id": "bbc5f6d4",
   "metadata": {
    "id": "bbc5f6d4"
   },
   "source": [
    "**Q3. Describe three different data types.**"
   ]
  },
  {
   "cell_type": "markdown",
   "id": "daf79900",
   "metadata": {
    "id": "daf79900"
   },
   "source": [
    "**Data Types in Python**\n",
    "\n",
    "1.Numeric Datatypes<br>\n",
    "\n",
    "  <li><strong>Integers:</strong> Whole numbers without decimal points. Example: <code>45</code></li>\n",
    "  <li><strong>Floats:</strong> Numbers with decimal points. Example: <code>8.19</code></li>\n",
    "  <li><strong>Complex Numbers:</strong>Represented in the form of “a + bi'. Complex Numbers Example: <code>2i</code></li>\n",
    "\n",
    "2.Text Datatypes<br>\n",
    "\n",
    "<ul>\n",
    "  <li><strong>Strings:</strong> Sequences of characters. Example: <code>\"Hello, Sayantan\"</code></li>\n",
    "3.Sequence Datatypes <br>\n",
    "<ul>\n",
    "  <li><strong>Lists:</strong> Ordered collections of items. Example: <code>[1, 2, 3, 4]</code></li>\n",
    "  <li><strong>Tuples:</strong> Ordered, immutable collections of items. Example: <code>(1, 2, 3)</code></li>\n",
    "4. Mapping Datatype\n",
    "  <li><strong>Dictionaries:</strong> Key-value pairs. Example: <code>{\"name\": \"Cris\", \"age\": 23}</code></li>\n",
    "</ul>\n",
    "\n",
    "</body>\n",
    "</html>\n"
   ]
  },
  {
   "cell_type": "markdown",
   "id": "63110655",
   "metadata": {
    "id": "63110655"
   },
   "source": [
    "**Q.4. What is an expression made up of? What do all expressions do?**"
   ]
  },
  {
   "cell_type": "markdown",
   "id": "affd9f0b",
   "metadata": {
    "id": "affd9f0b"
   },
   "source": [
    "**Ans:** An expression is a combination of operators, constants and variables. They are combined in a way to produce new value. Expressions can be simple, like a single value or variable, or complex, involving multiple components and operations<br>\n",
    "Example- Arithmetic Expression, Constant Expression, Logical Expression, Floating Expression, Bitwise Expression etc.  \n",
    "\n",
    "\n"
   ]
  },
  {
   "cell_type": "code",
   "execution_count": 7,
   "id": "c6f87c87",
   "metadata": {
    "colab": {
     "base_uri": "https://localhost:8080/"
    },
    "id": "c6f87c87",
    "outputId": "a7b9b5d6-d4e9-40e1-a157-a54e661f9f4d"
   },
   "outputs": [
    {
     "name": "stdout",
     "output_type": "stream",
     "text": [
      "sum of a and b is:  30\n",
      " difference between a and b is:  24\n",
      "The product of a and b is:  81\n",
      "The division of a and b is:  9.0\n",
      "------------------------------------------------------------------------------------------------\n",
      " sum of x and y is:  17.0\n",
      "------------------------------------------------------------------------------------------------\n",
      "True\n",
      "------------------------------------------------------------------------------------------------\n",
      "sum of p and q is 13\n"
     ]
    }
   ],
   "source": [
    "# Example\n",
    "\n",
    "#Arithmetic Expression\n",
    "a = 27\n",
    "b = 3\n",
    "\n",
    "add = a + b\n",
    "sub = a - b\n",
    "product = a * b\n",
    "div= a / b\n",
    "\n",
    "print(\"sum of a and b is: \", add)\n",
    "print(\" difference between a and b is: \", sub)\n",
    "print(\"The product of a and b is: \", product)\n",
    "print(\"The division of a and b is: \", div)\n",
    "\n",
    "print(\"------------------------------------------------------------------------------------------------\")\n",
    "\n",
    "#FLoating Expression\n",
    "\n",
    "x = 10      # integer num\n",
    "y = 7.0     # floating number\n",
    "\n",
    "# we need to convert the integer number into a floating-point number or vice versa for summation.\n",
    "result = float(x) + y\n",
    "\n",
    "print(\" sum of x and y is: \", result)\n",
    "\n",
    "print(\"------------------------------------------------------------------------------------------------\")\n",
    "\n",
    "#Logical Expression\n",
    "\n",
    "c= (7 > 5)\n",
    "print(c)\n",
    "\n",
    "print(\"------------------------------------------------------------------------------------------------\")\n",
    "\n",
    "#Constant Expression\n",
    "\n",
    "p=6\n",
    "q=7\n",
    "\n",
    "print(\"sum of p and q is\", p+q)\n",
    "\n",
    "\n",
    "\n"
   ]
  },
  {
   "cell_type": "markdown",
   "id": "P1cf87xjKrc9",
   "metadata": {
    "id": "P1cf87xjKrc9"
   },
   "source": [
    "**Q.5. This assignment statements, like spam = 10. What is the difference between an expression and a statement?**\n"
   ]
  },
  {
   "cell_type": "markdown",
   "id": "MEJN_uSEKxoc",
   "metadata": {
    "id": "MEJN_uSEKxoc"
   },
   "source": [
    "\n",
    "\n",
    "1.   A **statement** in Python is used for creating variables or for displaying values. The **expression** in Python is used to produce some value or result after being interpreted by the Python interpreter.\n",
    "2.   A **statement** can not be assigned to variables. A **expression** can be assigned to variables\n",
    "\n",
    "1.   Example of Statement- a=15<br>\n",
    "     Example of expression: a=a+20 <br>\n",
    "     **Input** = print(a)<br>\n",
    "     **Output** = 35\n",
    "\n",
    "\n",
    "\n",
    "\n"
   ]
  },
  {
   "cell_type": "markdown",
   "id": "RF225UFyQZi3",
   "metadata": {
    "id": "RF225UFyQZi3"
   },
   "source": [
    "**Q.6. After running the following code, what does the variable bacon contain?\n",
    "bacon = 22\n",
    "bacon + 1**\n"
   ]
  },
  {
   "cell_type": "code",
   "execution_count": 11,
   "id": "70de0970",
   "metadata": {
    "colab": {
     "base_uri": "https://localhost:8080/"
    },
    "id": "70de0970",
    "outputId": "37659ef4-c866-4f8f-9570-90e549e1b8c7"
   },
   "outputs": [
    {
     "name": "stdout",
     "output_type": "stream",
     "text": [
      "The value of bacon will be 22\n"
     ]
    }
   ],
   "source": [
    "bacon = 22\n",
    "bacon + 1\n",
    "\n",
    "print(\"The value of bacon will be\", bacon)\n",
    "\n",
    "# The value of bacon will be still 22, as the value after (bacon +1) is not have been assigned to bacon so the value of bacon will remain unchanged."
   ]
  },
  {
   "cell_type": "markdown",
   "id": "ToI91CjvRHzq",
   "metadata": {
    "id": "ToI91CjvRHzq"
   },
   "source": [
    "**Q.7. What should the values of the following two terms be?\n",
    "'spam' + 'spamspam'\n",
    "'spam' * 3**\n"
   ]
  },
  {
   "cell_type": "code",
   "execution_count": 14,
   "id": "3862ab00",
   "metadata": {
    "colab": {
     "base_uri": "https://localhost:8080/",
     "height": 35
    },
    "id": "3862ab00",
    "outputId": "8a99a5a9-8f08-4964-c66a-00fa074f0b76"
   },
   "outputs": [
    {
     "data": {
      "application/vnd.google.colaboratory.intrinsic+json": {
       "type": "string"
      },
      "text/plain": [
       "'spamspamspam'"
      ]
     },
     "execution_count": 14,
     "metadata": {},
     "output_type": "execute_result"
    }
   ],
   "source": [
    "'spam' + 'spamspam'\n",
    "\n",
    "# It Results as 'spamspamspam' . It concatenates 2 strings 'spam' and 'spamspam' which results as 'spamspamspam'\n",
    "\n"
   ]
  },
  {
   "cell_type": "code",
   "execution_count": 16,
   "id": "7ee6e7e8",
   "metadata": {
    "colab": {
     "base_uri": "https://localhost:8080/",
     "height": 35
    },
    "id": "7ee6e7e8",
    "outputId": "f9b2b20e-c355-4f7f-c719-f36d0b5ffc4a"
   },
   "outputs": [
    {
     "data": {
      "application/vnd.google.colaboratory.intrinsic+json": {
       "type": "string"
      },
      "text/plain": [
       "'spamspamspam'"
      ]
     },
     "execution_count": 16,
     "metadata": {},
     "output_type": "execute_result"
    }
   ],
   "source": [
    "'spam' * 3\n",
    "\n",
    "#repeats spam string thrice and result output as 'spamspamspam'"
   ]
  },
  {
   "cell_type": "markdown",
   "id": "Kq3UuL8gTNAZ",
   "metadata": {
    "id": "Kq3UuL8gTNAZ"
   },
   "source": [
    "**8. Why is eggs a valid variable name while 100 is invalid?**"
   ]
  },
  {
   "cell_type": "markdown",
   "id": "Jycd6GkyTaDg",
   "metadata": {
    "id": "Jycd6GkyTaDg"
   },
   "source": [
    "100 cannot be a variable name as it is against the rules for naming a variable in python.Variable names cannot start with a digit (0-9). <br>\n",
    "As a variable name can start with any alphabets (a-z)/(A-Z) so egg is valid, and 100 is not"
   ]
  },
  {
   "cell_type": "markdown",
   "id": "QddmdsRPVtcB",
   "metadata": {
    "id": "QddmdsRPVtcB"
   },
   "source": [
    "**9. What three functions can be used to get the integer, floating-point number, or string version of a value?**"
   ]
  },
  {
   "cell_type": "markdown",
   "id": "aLDbyzrqVxEB",
   "metadata": {
    "id": "aLDbyzrqVxEB"
   },
   "source": [
    "**Answer:-**<br> To get an integer/ convert into integer , we use **int()** function<br>\n",
    "To get an float point number , we use **float()** function<br>\n",
    "To get an string value, we use **str()** function<br>"
   ]
  },
  {
   "cell_type": "code",
   "execution_count": 11,
   "id": "9a7ccb8d",
   "metadata": {},
   "outputs": [
    {
     "name": "stdout",
     "output_type": "stream",
     "text": [
      "<class 'float'>\n",
      "-------------\n",
      "after coverting into float <class 'int'>\n",
      "--------------------------------------------\n",
      "<class 'float'>\n",
      "-------------\n",
      "after coverting into integer <class 'int'>\n",
      "--------------------------------------------\n",
      "10\n",
      "<class 'int'>\n",
      "-------------\n",
      "after converting it into a string  <class 'str'>\n"
     ]
    }
   ],
   "source": [
    "#Int() function\n",
    "\n",
    "num=10.84\n",
    "print(type(num))\n",
    "print(\"-------------\")\n",
    "num=int(num)\n",
    "print(\"after coverting into float\", type(num))\n",
    "print(\"--------------------------------------------\")\n",
    "\n",
    "#Float() function\n",
    "\n",
    "num1=8.67\n",
    "print(type(num1))\n",
    "print(\"-------------\")\n",
    "num1=int(num1)\n",
    "print(\"after coverting into integer\", type(num1))\n",
    "\n",
    "print(\"--------------------------------------------\")\n",
    "\n",
    "print(num)\n",
    "print(type(num))\n",
    "print(\"-------------\")\n",
    "num2 = str(num)\n",
    "print(\"after converting it into a string \",type(num2))\n",
    "\n",
    "\n",
    "\n"
   ]
  },
  {
   "cell_type": "markdown",
   "id": "3KRlkOYVUKMg",
   "metadata": {
    "id": "3KRlkOYVUKMg"
   },
   "source": [
    "**10. Why does this expression cause an error? How can you fix it?<br>\n",
    "'I have eaten ' + 99 + ' burritos.'**"
   ]
  },
  {
   "cell_type": "markdown",
   "id": "Pdjs4kcTUjFP",
   "metadata": {
    "id": "Pdjs4kcTUjFP"
   },
   "source": [
    "Here the code is trying to concatenate two string with a numeric value which is not possible.<br>\n",
    "We can nott directly concatenate different data types without explicitly converting them. So this is the error.\n",
    "<br>\n",
    "To fix this error we have to transform / convert 99 into a string value. We will use **str()** function for it."
   ]
  },
  {
   "cell_type": "code",
   "execution_count": 24,
   "id": "479523a5",
   "metadata": {
    "colab": {
     "base_uri": "https://localhost:8080/",
     "height": 35
    },
    "id": "479523a5",
    "outputId": "ee896028-6021-438f-8d7b-f1119176d8db"
   },
   "outputs": [
    {
     "data": {
      "application/vnd.google.colaboratory.intrinsic+json": {
       "type": "string"
      },
      "text/plain": [
       "'I have eaten 99 burritos.'"
      ]
     },
     "execution_count": 24,
     "metadata": {},
     "output_type": "execute_result"
    }
   ],
   "source": [
    "'I have eaten ' + str(99) + ' burritos.'\n",
    "\n",
    "# We converted 99 into a string value by using str() function."
   ]
  },
  {
   "cell_type": "code",
   "execution_count": 23,
   "id": "cf40b324",
   "metadata": {
    "colab": {
     "base_uri": "https://localhost:8080/"
    },
    "id": "cf40b324",
    "outputId": "25b37248-b04b-4ae1-c159-07e1ae084bb8"
   },
   "outputs": [
    {
     "name": "stdout",
     "output_type": "stream",
     "text": [
      "<class 'str'>\n"
     ]
    }
   ],
   "source": [
    "print(type(str(99)))  # String"
   ]
  },
  {
   "cell_type": "code",
   "execution_count": null,
   "id": "52070fbf",
   "metadata": {
    "id": "52070fbf"
   },
   "outputs": [],
   "source": []
  },
  {
   "cell_type": "code",
   "execution_count": null,
   "id": "b3338e7e",
   "metadata": {
    "id": "b3338e7e"
   },
   "outputs": [],
   "source": []
  },
  {
   "cell_type": "code",
   "execution_count": null,
   "id": "d105e394",
   "metadata": {
    "id": "d105e394"
   },
   "outputs": [],
   "source": []
  }
 ],
 "metadata": {
  "colab": {
   "provenance": []
  },
  "kernelspec": {
   "display_name": "Python 3 (ipykernel)",
   "language": "python",
   "name": "python3"
  },
  "language_info": {
   "codemirror_mode": {
    "name": "ipython",
    "version": 3
   },
   "file_extension": ".py",
   "mimetype": "text/x-python",
   "name": "python",
   "nbconvert_exporter": "python",
   "pygments_lexer": "ipython3",
   "version": "3.9.7"
  }
 },
 "nbformat": 4,
 "nbformat_minor": 5
}
